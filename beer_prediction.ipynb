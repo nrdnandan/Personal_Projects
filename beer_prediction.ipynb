{
  "nbformat": 4,
  "nbformat_minor": 0,
  "metadata": {
    "colab": {
      "name": "beer_prediction",
      "provenance": [],
      "collapsed_sections": [],
      "toc_visible": true,
      "mount_file_id": "1J5uxL1Fp1wIOhEHKpUld5iINMOXXTe4u",
      "authorship_tag": "ABX9TyOtFlvrKZgr/PDOLiI8NysV",
      "include_colab_link": true
    },
    "kernelspec": {
      "name": "python3",
      "display_name": "Python 3"
    },
    "accelerator": "GPU"
  },
  "cells": [
    {
      "cell_type": "markdown",
      "metadata": {
        "id": "view-in-github",
        "colab_type": "text"
      },
      "source": [
        "<a href=\"https://colab.research.google.com/github/nrdnandan/Personal_Projects/blob/main/beer_prediction.ipynb\" target=\"_parent\"><img src=\"https://colab.research.google.com/assets/colab-badge.svg\" alt=\"Open In Colab\"/></a>"
      ]
    },
    {
      "cell_type": "code",
      "metadata": {
        "colab": {
          "base_uri": "https://localhost:8080/"
        },
        "id": "AePR0xLDNIQm",
        "outputId": "497713dd-5251-4402-c59d-275fa7fb604f"
      },
      "source": [
        "!pip install umap-learn"
      ],
      "execution_count": null,
      "outputs": [
        {
          "output_type": "stream",
          "text": [
            "Requirement already satisfied: umap-learn in /usr/local/lib/python3.6/dist-packages (0.4.6)\n",
            "Requirement already satisfied: numpy>=1.17 in /usr/local/lib/python3.6/dist-packages (from umap-learn) (1.18.5)\n",
            "Requirement already satisfied: scikit-learn>=0.20 in /usr/local/lib/python3.6/dist-packages (from umap-learn) (0.22.2.post1)\n",
            "Requirement already satisfied: numba!=0.47,>=0.46 in /usr/local/lib/python3.6/dist-packages (from umap-learn) (0.48.0)\n",
            "Requirement already satisfied: scipy>=1.3.1 in /usr/local/lib/python3.6/dist-packages (from umap-learn) (1.4.1)\n",
            "Requirement already satisfied: joblib>=0.11 in /usr/local/lib/python3.6/dist-packages (from scikit-learn>=0.20->umap-learn) (0.17.0)\n",
            "Requirement already satisfied: setuptools in /usr/local/lib/python3.6/dist-packages (from numba!=0.47,>=0.46->umap-learn) (50.3.2)\n",
            "Requirement already satisfied: llvmlite<0.32.0,>=0.31.0dev0 in /usr/local/lib/python3.6/dist-packages (from numba!=0.47,>=0.46->umap-learn) (0.31.0)\n"
          ],
          "name": "stdout"
        }
      ]
    },
    {
      "cell_type": "code",
      "metadata": {
        "colab": {
          "base_uri": "https://localhost:8080/"
        },
        "id": "vup6TtwpVykJ",
        "outputId": "67b864d2-7d2b-4919-c720-96e51543cc1f"
      },
      "source": [
        "!pip install scikit-learn numba faiss gpumap"
      ],
      "execution_count": null,
      "outputs": [
        {
          "output_type": "stream",
          "text": [
            "Requirement already satisfied: scikit-learn in /usr/local/lib/python3.6/dist-packages (0.22.2.post1)\n",
            "Requirement already satisfied: numba in /usr/local/lib/python3.6/dist-packages (0.48.0)\n",
            "Collecting faiss\n",
            "  Using cached faiss-1.5.3-cp36-cp36m-manylinux1_x86_64.whl (4.7 MB)\n",
            "Collecting gpumap\n",
            "  Using cached gpumap-0.1.1-py3-none-any.whl (52 kB)\n",
            "Requirement already satisfied: numpy>=1.11.0 in /usr/local/lib/python3.6/dist-packages (from scikit-learn) (1.18.5)\n",
            "Requirement already satisfied: scipy>=0.17.0 in /usr/local/lib/python3.6/dist-packages (from scikit-learn) (1.4.1)\n",
            "Requirement already satisfied: joblib>=0.11 in /usr/local/lib/python3.6/dist-packages (from scikit-learn) (0.17.0)\n",
            "Requirement already satisfied: llvmlite<0.32.0,>=0.31.0dev0 in /usr/local/lib/python3.6/dist-packages (from numba) (0.31.0)\n",
            "Requirement already satisfied: setuptools in /usr/local/lib/python3.6/dist-packages (from numba) (50.3.2)\n",
            "Requirement already satisfied: cupy>=6.0.0 in /usr/local/lib/python3.6/dist-packages (from gpumap) (8.1.0)\n",
            "Requirement already satisfied: fastrlock>=0.3 in /usr/local/lib/python3.6/dist-packages (from cupy>=6.0.0->gpumap) (0.5)\n",
            "Installing collected packages: faiss, gpumap\n",
            "Successfully installed faiss-1.5.3 gpumap-0.1.1\n"
          ],
          "name": "stdout"
        }
      ]
    },
    {
      "cell_type": "code",
      "metadata": {
        "id": "lelZOtNPIasR",
        "colab": {
          "base_uri": "https://localhost:8080/"
        },
        "outputId": "c2968678-2184-41c0-bc6f-b1c4a1578eaa"
      },
      "source": [
        "import pandas as pd\n",
        "from sklearn.ensemble import RandomForestRegressor\n",
        "import matplotlib.pyplot as plt\n",
        "import seaborn as sns\n",
        "import nltk\n",
        "from nltk.tokenize import word_tokenize\n",
        "from nltk.corpus import stopwords\n",
        "from nltk.tokenize import RegexpTokenizer\n",
        "from wordcloud import WordCloud\n",
        "from sklearn.feature_extraction.text import TfidfVectorizer\n",
        "from sklearn.model_selection import train_test_split\n",
        "from sklearn.decomposition import TruncatedSVD\n",
        "#from umap import UMAP\n",
        "nltk.download('all')"
      ],
      "execution_count": null,
      "outputs": [
        {
          "output_type": "stream",
          "text": [
            "[nltk_data] Downloading collection 'all'\n",
            "[nltk_data]    | \n",
            "[nltk_data]    | Downloading package abc to /root/nltk_data...\n",
            "[nltk_data]    |   Package abc is already up-to-date!\n",
            "[nltk_data]    | Downloading package alpino to /root/nltk_data...\n",
            "[nltk_data]    |   Package alpino is already up-to-date!\n",
            "[nltk_data]    | Downloading package biocreative_ppi to\n",
            "[nltk_data]    |     /root/nltk_data...\n",
            "[nltk_data]    |   Package biocreative_ppi is already up-to-date!\n",
            "[nltk_data]    | Downloading package brown to /root/nltk_data...\n",
            "[nltk_data]    |   Package brown is already up-to-date!\n",
            "[nltk_data]    | Downloading package brown_tei to /root/nltk_data...\n",
            "[nltk_data]    |   Package brown_tei is already up-to-date!\n",
            "[nltk_data]    | Downloading package cess_cat to /root/nltk_data...\n",
            "[nltk_data]    |   Package cess_cat is already up-to-date!\n",
            "[nltk_data]    | Downloading package cess_esp to /root/nltk_data...\n",
            "[nltk_data]    |   Package cess_esp is already up-to-date!\n",
            "[nltk_data]    | Downloading package chat80 to /root/nltk_data...\n",
            "[nltk_data]    |   Package chat80 is already up-to-date!\n",
            "[nltk_data]    | Downloading package city_database to\n",
            "[nltk_data]    |     /root/nltk_data...\n",
            "[nltk_data]    |   Package city_database is already up-to-date!\n",
            "[nltk_data]    | Downloading package cmudict to /root/nltk_data...\n",
            "[nltk_data]    |   Package cmudict is already up-to-date!\n",
            "[nltk_data]    | Downloading package comparative_sentences to\n",
            "[nltk_data]    |     /root/nltk_data...\n",
            "[nltk_data]    |   Package comparative_sentences is already up-to-\n",
            "[nltk_data]    |       date!\n",
            "[nltk_data]    | Downloading package comtrans to /root/nltk_data...\n",
            "[nltk_data]    |   Package comtrans is already up-to-date!\n",
            "[nltk_data]    | Downloading package conll2000 to /root/nltk_data...\n",
            "[nltk_data]    |   Package conll2000 is already up-to-date!\n",
            "[nltk_data]    | Downloading package conll2002 to /root/nltk_data...\n",
            "[nltk_data]    |   Package conll2002 is already up-to-date!\n",
            "[nltk_data]    | Downloading package conll2007 to /root/nltk_data...\n",
            "[nltk_data]    |   Package conll2007 is already up-to-date!\n",
            "[nltk_data]    | Downloading package crubadan to /root/nltk_data...\n",
            "[nltk_data]    |   Package crubadan is already up-to-date!\n",
            "[nltk_data]    | Downloading package dependency_treebank to\n",
            "[nltk_data]    |     /root/nltk_data...\n",
            "[nltk_data]    |   Package dependency_treebank is already up-to-date!\n",
            "[nltk_data]    | Downloading package dolch to /root/nltk_data...\n",
            "[nltk_data]    |   Package dolch is already up-to-date!\n",
            "[nltk_data]    | Downloading package europarl_raw to\n",
            "[nltk_data]    |     /root/nltk_data...\n",
            "[nltk_data]    |   Package europarl_raw is already up-to-date!\n",
            "[nltk_data]    | Downloading package floresta to /root/nltk_data...\n",
            "[nltk_data]    |   Package floresta is already up-to-date!\n",
            "[nltk_data]    | Downloading package framenet_v15 to\n",
            "[nltk_data]    |     /root/nltk_data...\n",
            "[nltk_data]    |   Package framenet_v15 is already up-to-date!\n",
            "[nltk_data]    | Downloading package framenet_v17 to\n",
            "[nltk_data]    |     /root/nltk_data...\n",
            "[nltk_data]    |   Package framenet_v17 is already up-to-date!\n",
            "[nltk_data]    | Downloading package gazetteers to /root/nltk_data...\n",
            "[nltk_data]    |   Package gazetteers is already up-to-date!\n",
            "[nltk_data]    | Downloading package genesis to /root/nltk_data...\n",
            "[nltk_data]    |   Package genesis is already up-to-date!\n",
            "[nltk_data]    | Downloading package gutenberg to /root/nltk_data...\n",
            "[nltk_data]    |   Package gutenberg is already up-to-date!\n",
            "[nltk_data]    | Downloading package ieer to /root/nltk_data...\n",
            "[nltk_data]    |   Package ieer is already up-to-date!\n",
            "[nltk_data]    | Downloading package inaugural to /root/nltk_data...\n",
            "[nltk_data]    |   Package inaugural is already up-to-date!\n",
            "[nltk_data]    | Downloading package indian to /root/nltk_data...\n",
            "[nltk_data]    |   Package indian is already up-to-date!\n",
            "[nltk_data]    | Downloading package jeita to /root/nltk_data...\n",
            "[nltk_data]    |   Package jeita is already up-to-date!\n",
            "[nltk_data]    | Downloading package kimmo to /root/nltk_data...\n",
            "[nltk_data]    |   Package kimmo is already up-to-date!\n",
            "[nltk_data]    | Downloading package knbc to /root/nltk_data...\n",
            "[nltk_data]    |   Package knbc is already up-to-date!\n",
            "[nltk_data]    | Downloading package lin_thesaurus to\n",
            "[nltk_data]    |     /root/nltk_data...\n",
            "[nltk_data]    |   Package lin_thesaurus is already up-to-date!\n",
            "[nltk_data]    | Downloading package mac_morpho to /root/nltk_data...\n",
            "[nltk_data]    |   Package mac_morpho is already up-to-date!\n",
            "[nltk_data]    | Downloading package machado to /root/nltk_data...\n",
            "[nltk_data]    |   Package machado is already up-to-date!\n",
            "[nltk_data]    | Downloading package masc_tagged to /root/nltk_data...\n",
            "[nltk_data]    |   Package masc_tagged is already up-to-date!\n",
            "[nltk_data]    | Downloading package moses_sample to\n",
            "[nltk_data]    |     /root/nltk_data...\n",
            "[nltk_data]    |   Package moses_sample is already up-to-date!\n",
            "[nltk_data]    | Downloading package movie_reviews to\n",
            "[nltk_data]    |     /root/nltk_data...\n",
            "[nltk_data]    |   Package movie_reviews is already up-to-date!\n",
            "[nltk_data]    | Downloading package names to /root/nltk_data...\n",
            "[nltk_data]    |   Package names is already up-to-date!\n",
            "[nltk_data]    | Downloading package nombank.1.0 to /root/nltk_data...\n",
            "[nltk_data]    |   Package nombank.1.0 is already up-to-date!\n",
            "[nltk_data]    | Downloading package nps_chat to /root/nltk_data...\n",
            "[nltk_data]    |   Package nps_chat is already up-to-date!\n",
            "[nltk_data]    | Downloading package omw to /root/nltk_data...\n",
            "[nltk_data]    |   Package omw is already up-to-date!\n",
            "[nltk_data]    | Downloading package opinion_lexicon to\n",
            "[nltk_data]    |     /root/nltk_data...\n",
            "[nltk_data]    |   Package opinion_lexicon is already up-to-date!\n",
            "[nltk_data]    | Downloading package paradigms to /root/nltk_data...\n",
            "[nltk_data]    |   Package paradigms is already up-to-date!\n",
            "[nltk_data]    | Downloading package pil to /root/nltk_data...\n",
            "[nltk_data]    |   Package pil is already up-to-date!\n",
            "[nltk_data]    | Downloading package pl196x to /root/nltk_data...\n",
            "[nltk_data]    |   Package pl196x is already up-to-date!\n",
            "[nltk_data]    | Downloading package ppattach to /root/nltk_data...\n",
            "[nltk_data]    |   Package ppattach is already up-to-date!\n",
            "[nltk_data]    | Downloading package problem_reports to\n",
            "[nltk_data]    |     /root/nltk_data...\n",
            "[nltk_data]    |   Package problem_reports is already up-to-date!\n",
            "[nltk_data]    | Downloading package propbank to /root/nltk_data...\n",
            "[nltk_data]    |   Package propbank is already up-to-date!\n",
            "[nltk_data]    | Downloading package ptb to /root/nltk_data...\n",
            "[nltk_data]    |   Package ptb is already up-to-date!\n",
            "[nltk_data]    | Downloading package product_reviews_1 to\n",
            "[nltk_data]    |     /root/nltk_data...\n",
            "[nltk_data]    |   Package product_reviews_1 is already up-to-date!\n",
            "[nltk_data]    | Downloading package product_reviews_2 to\n",
            "[nltk_data]    |     /root/nltk_data...\n",
            "[nltk_data]    |   Package product_reviews_2 is already up-to-date!\n",
            "[nltk_data]    | Downloading package pros_cons to /root/nltk_data...\n",
            "[nltk_data]    |   Package pros_cons is already up-to-date!\n",
            "[nltk_data]    | Downloading package qc to /root/nltk_data...\n",
            "[nltk_data]    |   Package qc is already up-to-date!\n",
            "[nltk_data]    | Downloading package reuters to /root/nltk_data...\n",
            "[nltk_data]    |   Package reuters is already up-to-date!\n",
            "[nltk_data]    | Downloading package rte to /root/nltk_data...\n",
            "[nltk_data]    |   Package rte is already up-to-date!\n",
            "[nltk_data]    | Downloading package semcor to /root/nltk_data...\n",
            "[nltk_data]    |   Package semcor is already up-to-date!\n",
            "[nltk_data]    | Downloading package senseval to /root/nltk_data...\n",
            "[nltk_data]    |   Package senseval is already up-to-date!\n",
            "[nltk_data]    | Downloading package sentiwordnet to\n",
            "[nltk_data]    |     /root/nltk_data...\n",
            "[nltk_data]    |   Package sentiwordnet is already up-to-date!\n",
            "[nltk_data]    | Downloading package sentence_polarity to\n",
            "[nltk_data]    |     /root/nltk_data...\n",
            "[nltk_data]    |   Package sentence_polarity is already up-to-date!\n",
            "[nltk_data]    | Downloading package shakespeare to /root/nltk_data...\n",
            "[nltk_data]    |   Package shakespeare is already up-to-date!\n",
            "[nltk_data]    | Downloading package sinica_treebank to\n",
            "[nltk_data]    |     /root/nltk_data...\n",
            "[nltk_data]    |   Package sinica_treebank is already up-to-date!\n",
            "[nltk_data]    | Downloading package smultron to /root/nltk_data...\n",
            "[nltk_data]    |   Package smultron is already up-to-date!\n",
            "[nltk_data]    | Downloading package state_union to /root/nltk_data...\n",
            "[nltk_data]    |   Package state_union is already up-to-date!\n",
            "[nltk_data]    | Downloading package stopwords to /root/nltk_data...\n",
            "[nltk_data]    |   Package stopwords is already up-to-date!\n",
            "[nltk_data]    | Downloading package subjectivity to\n",
            "[nltk_data]    |     /root/nltk_data...\n",
            "[nltk_data]    |   Package subjectivity is already up-to-date!\n",
            "[nltk_data]    | Downloading package swadesh to /root/nltk_data...\n",
            "[nltk_data]    |   Package swadesh is already up-to-date!\n",
            "[nltk_data]    | Downloading package switchboard to /root/nltk_data...\n",
            "[nltk_data]    |   Package switchboard is already up-to-date!\n",
            "[nltk_data]    | Downloading package timit to /root/nltk_data...\n",
            "[nltk_data]    |   Package timit is already up-to-date!\n",
            "[nltk_data]    | Downloading package toolbox to /root/nltk_data...\n",
            "[nltk_data]    |   Package toolbox is already up-to-date!\n",
            "[nltk_data]    | Downloading package treebank to /root/nltk_data...\n",
            "[nltk_data]    |   Package treebank is already up-to-date!\n",
            "[nltk_data]    | Downloading package twitter_samples to\n",
            "[nltk_data]    |     /root/nltk_data...\n",
            "[nltk_data]    |   Package twitter_samples is already up-to-date!\n",
            "[nltk_data]    | Downloading package udhr to /root/nltk_data...\n",
            "[nltk_data]    |   Package udhr is already up-to-date!\n",
            "[nltk_data]    | Downloading package udhr2 to /root/nltk_data...\n",
            "[nltk_data]    |   Package udhr2 is already up-to-date!\n",
            "[nltk_data]    | Downloading package unicode_samples to\n",
            "[nltk_data]    |     /root/nltk_data...\n",
            "[nltk_data]    |   Package unicode_samples is already up-to-date!\n",
            "[nltk_data]    | Downloading package universal_treebanks_v20 to\n",
            "[nltk_data]    |     /root/nltk_data...\n",
            "[nltk_data]    |   Package universal_treebanks_v20 is already up-to-\n",
            "[nltk_data]    |       date!\n",
            "[nltk_data]    | Downloading package verbnet to /root/nltk_data...\n",
            "[nltk_data]    |   Package verbnet is already up-to-date!\n",
            "[nltk_data]    | Downloading package verbnet3 to /root/nltk_data...\n",
            "[nltk_data]    |   Package verbnet3 is already up-to-date!\n",
            "[nltk_data]    | Downloading package webtext to /root/nltk_data...\n",
            "[nltk_data]    |   Package webtext is already up-to-date!\n",
            "[nltk_data]    | Downloading package wordnet to /root/nltk_data...\n",
            "[nltk_data]    |   Package wordnet is already up-to-date!\n",
            "[nltk_data]    | Downloading package wordnet_ic to /root/nltk_data...\n",
            "[nltk_data]    |   Package wordnet_ic is already up-to-date!\n",
            "[nltk_data]    | Downloading package words to /root/nltk_data...\n",
            "[nltk_data]    |   Package words is already up-to-date!\n",
            "[nltk_data]    | Downloading package ycoe to /root/nltk_data...\n",
            "[nltk_data]    |   Package ycoe is already up-to-date!\n",
            "[nltk_data]    | Downloading package rslp to /root/nltk_data...\n",
            "[nltk_data]    |   Package rslp is already up-to-date!\n",
            "[nltk_data]    | Downloading package maxent_treebank_pos_tagger to\n",
            "[nltk_data]    |     /root/nltk_data...\n",
            "[nltk_data]    |   Package maxent_treebank_pos_tagger is already up-\n",
            "[nltk_data]    |       to-date!\n",
            "[nltk_data]    | Downloading package universal_tagset to\n",
            "[nltk_data]    |     /root/nltk_data...\n",
            "[nltk_data]    |   Package universal_tagset is already up-to-date!\n",
            "[nltk_data]    | Downloading package maxent_ne_chunker to\n",
            "[nltk_data]    |     /root/nltk_data...\n",
            "[nltk_data]    |   Package maxent_ne_chunker is already up-to-date!\n",
            "[nltk_data]    | Downloading package punkt to /root/nltk_data...\n",
            "[nltk_data]    |   Package punkt is already up-to-date!\n",
            "[nltk_data]    | Downloading package book_grammars to\n",
            "[nltk_data]    |     /root/nltk_data...\n",
            "[nltk_data]    |   Package book_grammars is already up-to-date!\n",
            "[nltk_data]    | Downloading package sample_grammars to\n",
            "[nltk_data]    |     /root/nltk_data...\n",
            "[nltk_data]    |   Package sample_grammars is already up-to-date!\n",
            "[nltk_data]    | Downloading package spanish_grammars to\n",
            "[nltk_data]    |     /root/nltk_data...\n",
            "[nltk_data]    |   Package spanish_grammars is already up-to-date!\n",
            "[nltk_data]    | Downloading package basque_grammars to\n",
            "[nltk_data]    |     /root/nltk_data...\n",
            "[nltk_data]    |   Package basque_grammars is already up-to-date!\n",
            "[nltk_data]    | Downloading package large_grammars to\n",
            "[nltk_data]    |     /root/nltk_data...\n",
            "[nltk_data]    |   Package large_grammars is already up-to-date!\n",
            "[nltk_data]    | Downloading package tagsets to /root/nltk_data...\n",
            "[nltk_data]    |   Package tagsets is already up-to-date!\n",
            "[nltk_data]    | Downloading package snowball_data to\n",
            "[nltk_data]    |     /root/nltk_data...\n",
            "[nltk_data]    |   Package snowball_data is already up-to-date!\n",
            "[nltk_data]    | Downloading package bllip_wsj_no_aux to\n",
            "[nltk_data]    |     /root/nltk_data...\n",
            "[nltk_data]    |   Package bllip_wsj_no_aux is already up-to-date!\n",
            "[nltk_data]    | Downloading package word2vec_sample to\n",
            "[nltk_data]    |     /root/nltk_data...\n",
            "[nltk_data]    |   Package word2vec_sample is already up-to-date!\n",
            "[nltk_data]    | Downloading package panlex_swadesh to\n",
            "[nltk_data]    |     /root/nltk_data...\n",
            "[nltk_data]    |   Package panlex_swadesh is already up-to-date!\n",
            "[nltk_data]    | Downloading package mte_teip5 to /root/nltk_data...\n",
            "[nltk_data]    |   Package mte_teip5 is already up-to-date!\n",
            "[nltk_data]    | Downloading package averaged_perceptron_tagger to\n",
            "[nltk_data]    |     /root/nltk_data...\n",
            "[nltk_data]    |   Package averaged_perceptron_tagger is already up-\n",
            "[nltk_data]    |       to-date!\n",
            "[nltk_data]    | Downloading package averaged_perceptron_tagger_ru to\n",
            "[nltk_data]    |     /root/nltk_data...\n",
            "[nltk_data]    |   Package averaged_perceptron_tagger_ru is already\n",
            "[nltk_data]    |       up-to-date!\n",
            "[nltk_data]    | Downloading package perluniprops to\n",
            "[nltk_data]    |     /root/nltk_data...\n",
            "[nltk_data]    |   Package perluniprops is already up-to-date!\n",
            "[nltk_data]    | Downloading package nonbreaking_prefixes to\n",
            "[nltk_data]    |     /root/nltk_data...\n",
            "[nltk_data]    |   Package nonbreaking_prefixes is already up-to-date!\n",
            "[nltk_data]    | Downloading package vader_lexicon to\n",
            "[nltk_data]    |     /root/nltk_data...\n",
            "[nltk_data]    |   Package vader_lexicon is already up-to-date!\n",
            "[nltk_data]    | Downloading package porter_test to /root/nltk_data...\n",
            "[nltk_data]    |   Package porter_test is already up-to-date!\n",
            "[nltk_data]    | Downloading package wmt15_eval to /root/nltk_data...\n",
            "[nltk_data]    |   Package wmt15_eval is already up-to-date!\n",
            "[nltk_data]    | Downloading package mwa_ppdb to /root/nltk_data...\n",
            "[nltk_data]    |   Package mwa_ppdb is already up-to-date!\n",
            "[nltk_data]    | \n",
            "[nltk_data]  Done downloading collection all\n"
          ],
          "name": "stdout"
        },
        {
          "output_type": "execute_result",
          "data": {
            "text/plain": [
              "True"
            ]
          },
          "metadata": {
            "tags": []
          },
          "execution_count": 1
        }
      ]
    },
    {
      "cell_type": "code",
      "metadata": {
        "id": "pLHwgKpyI2P3"
      },
      "source": [
        "df = pd.read_csv('/content/drive/MyDrive/DS/train.csv')"
      ],
      "execution_count": null,
      "outputs": []
    },
    {
      "cell_type": "code",
      "metadata": {
        "colab": {
          "base_uri": "https://localhost:8080/",
          "height": 1000
        },
        "id": "99paNrBOI64h",
        "outputId": "6b32a781-9b5a-4c45-e4b7-9c36d2d4c965"
      },
      "source": [
        "df.head(30)"
      ],
      "execution_count": null,
      "outputs": [
        {
          "output_type": "execute_result",
          "data": {
            "text/html": [
              "<div>\n",
              "<style scoped>\n",
              "    .dataframe tbody tr th:only-of-type {\n",
              "        vertical-align: middle;\n",
              "    }\n",
              "\n",
              "    .dataframe tbody tr th {\n",
              "        vertical-align: top;\n",
              "    }\n",
              "\n",
              "    .dataframe thead th {\n",
              "        text-align: right;\n",
              "    }\n",
              "</style>\n",
              "<table border=\"1\" class=\"dataframe\">\n",
              "  <thead>\n",
              "    <tr style=\"text-align: right;\">\n",
              "      <th></th>\n",
              "      <th>index</th>\n",
              "      <th>beer/ABV</th>\n",
              "      <th>beer/beerId</th>\n",
              "      <th>beer/brewerId</th>\n",
              "      <th>beer/name</th>\n",
              "      <th>beer/style</th>\n",
              "      <th>review/appearance</th>\n",
              "      <th>review/aroma</th>\n",
              "      <th>review/overall</th>\n",
              "      <th>review/palate</th>\n",
              "      <th>review/taste</th>\n",
              "      <th>review/text</th>\n",
              "      <th>review/timeStruct</th>\n",
              "      <th>review/timeUnix</th>\n",
              "      <th>user/ageInSeconds</th>\n",
              "      <th>user/birthdayRaw</th>\n",
              "      <th>user/birthdayUnix</th>\n",
              "      <th>user/gender</th>\n",
              "      <th>user/profileName</th>\n",
              "    </tr>\n",
              "  </thead>\n",
              "  <tbody>\n",
              "    <tr>\n",
              "      <th>0</th>\n",
              "      <td>40163</td>\n",
              "      <td>5.00</td>\n",
              "      <td>46634</td>\n",
              "      <td>14338</td>\n",
              "      <td>Chiostro</td>\n",
              "      <td>Herbed / Spiced Beer</td>\n",
              "      <td>4.0</td>\n",
              "      <td>4.0</td>\n",
              "      <td>4.0</td>\n",
              "      <td>4.0</td>\n",
              "      <td>4.0</td>\n",
              "      <td>Pours a clouded gold with a thin white head. N...</td>\n",
              "      <td>{'min': 38, 'hour': 3, 'mday': 16, 'sec': 10, ...</td>\n",
              "      <td>1229398690</td>\n",
              "      <td>NaN</td>\n",
              "      <td>NaN</td>\n",
              "      <td>NaN</td>\n",
              "      <td>NaN</td>\n",
              "      <td>RblWthACoz</td>\n",
              "    </tr>\n",
              "    <tr>\n",
              "      <th>1</th>\n",
              "      <td>8135</td>\n",
              "      <td>11.00</td>\n",
              "      <td>3003</td>\n",
              "      <td>395</td>\n",
              "      <td>Bearded Pat's Barleywine</td>\n",
              "      <td>American Barleywine</td>\n",
              "      <td>4.0</td>\n",
              "      <td>3.5</td>\n",
              "      <td>3.5</td>\n",
              "      <td>3.5</td>\n",
              "      <td>3.0</td>\n",
              "      <td>12oz bottle into 8oz snifter.\\t\\tDeep ruby red...</td>\n",
              "      <td>{'min': 38, 'hour': 23, 'mday': 8, 'sec': 58, ...</td>\n",
              "      <td>1218238738</td>\n",
              "      <td>NaN</td>\n",
              "      <td>NaN</td>\n",
              "      <td>NaN</td>\n",
              "      <td>NaN</td>\n",
              "      <td>BeerSox</td>\n",
              "    </tr>\n",
              "    <tr>\n",
              "      <th>2</th>\n",
              "      <td>10529</td>\n",
              "      <td>4.70</td>\n",
              "      <td>961</td>\n",
              "      <td>365</td>\n",
              "      <td>Naughty Nellie's Ale</td>\n",
              "      <td>American Pale Ale (APA)</td>\n",
              "      <td>3.5</td>\n",
              "      <td>4.0</td>\n",
              "      <td>3.5</td>\n",
              "      <td>3.5</td>\n",
              "      <td>3.5</td>\n",
              "      <td>First enjoyed at the brewpub about 2 years ago...</td>\n",
              "      <td>{'min': 7, 'hour': 18, 'mday': 26, 'sec': 2, '...</td>\n",
              "      <td>1101492422</td>\n",
              "      <td>NaN</td>\n",
              "      <td>NaN</td>\n",
              "      <td>NaN</td>\n",
              "      <td>Male</td>\n",
              "      <td>mschofield</td>\n",
              "    </tr>\n",
              "    <tr>\n",
              "      <th>3</th>\n",
              "      <td>44610</td>\n",
              "      <td>4.40</td>\n",
              "      <td>429</td>\n",
              "      <td>1</td>\n",
              "      <td>Pilsner Urquell</td>\n",
              "      <td>Czech Pilsener</td>\n",
              "      <td>3.0</td>\n",
              "      <td>3.0</td>\n",
              "      <td>2.5</td>\n",
              "      <td>3.0</td>\n",
              "      <td>3.0</td>\n",
              "      <td>First thing I noticed after pouring from green...</td>\n",
              "      <td>{'min': 7, 'hour': 1, 'mday': 20, 'sec': 5, 'y...</td>\n",
              "      <td>1308532025</td>\n",
              "      <td>1.209827e+09</td>\n",
              "      <td>Aug 10, 1976</td>\n",
              "      <td>208508400.0</td>\n",
              "      <td>Male</td>\n",
              "      <td>molegar76</td>\n",
              "    </tr>\n",
              "    <tr>\n",
              "      <th>4</th>\n",
              "      <td>37062</td>\n",
              "      <td>4.40</td>\n",
              "      <td>4904</td>\n",
              "      <td>1417</td>\n",
              "      <td>Black Sheep Ale (Special)</td>\n",
              "      <td>English Pale Ale</td>\n",
              "      <td>4.0</td>\n",
              "      <td>3.0</td>\n",
              "      <td>3.0</td>\n",
              "      <td>3.5</td>\n",
              "      <td>2.5</td>\n",
              "      <td>A: pours an amber with a one finger head but o...</td>\n",
              "      <td>{'min': 51, 'hour': 6, 'mday': 12, 'sec': 48, ...</td>\n",
              "      <td>1299912708</td>\n",
              "      <td>NaN</td>\n",
              "      <td>NaN</td>\n",
              "      <td>NaN</td>\n",
              "      <td>NaN</td>\n",
              "      <td>Brewbro000</td>\n",
              "    </tr>\n",
              "    <tr>\n",
              "      <th>5</th>\n",
              "      <td>14095</td>\n",
              "      <td>10.00</td>\n",
              "      <td>21436</td>\n",
              "      <td>14</td>\n",
              "      <td>YouEnjoyMyStout</td>\n",
              "      <td>Russian Imperial Stout</td>\n",
              "      <td>4.0</td>\n",
              "      <td>4.0</td>\n",
              "      <td>4.0</td>\n",
              "      <td>4.0</td>\n",
              "      <td>4.5</td>\n",
              "      <td>served in a snifter; on-tap at CBC.\\t\\tcolor i...</td>\n",
              "      <td>{'min': 16, 'hour': 1, 'mday': 20, 'sec': 9, '...</td>\n",
              "      <td>1324343769</td>\n",
              "      <td>NaN</td>\n",
              "      <td>NaN</td>\n",
              "      <td>NaN</td>\n",
              "      <td>NaN</td>\n",
              "      <td>perrymarcus</td>\n",
              "    </tr>\n",
              "    <tr>\n",
              "      <th>6</th>\n",
              "      <td>13759</td>\n",
              "      <td>12.60</td>\n",
              "      <td>10001</td>\n",
              "      <td>14</td>\n",
              "      <td>Benevolence</td>\n",
              "      <td>American Wild Ale</td>\n",
              "      <td>4.0</td>\n",
              "      <td>4.5</td>\n",
              "      <td>4.0</td>\n",
              "      <td>4.0</td>\n",
              "      <td>4.0</td>\n",
              "      <td>my 100th review on-tap! mini snifter\\t\\t A nut...</td>\n",
              "      <td>{'min': 1, 'hour': 18, 'mday': 8, 'sec': 12, '...</td>\n",
              "      <td>1244484072</td>\n",
              "      <td>NaN</td>\n",
              "      <td>NaN</td>\n",
              "      <td>NaN</td>\n",
              "      <td>NaN</td>\n",
              "      <td>GratefulBeerGuy</td>\n",
              "    </tr>\n",
              "    <tr>\n",
              "      <th>7</th>\n",
              "      <td>3914</td>\n",
              "      <td>8.40</td>\n",
              "      <td>52211</td>\n",
              "      <td>14879</td>\n",
              "      <td>Frog's Hollow Double Pumpkin Ale</td>\n",
              "      <td>Pumpkin Ale</td>\n",
              "      <td>4.0</td>\n",
              "      <td>4.0</td>\n",
              "      <td>4.0</td>\n",
              "      <td>4.0</td>\n",
              "      <td>4.0</td>\n",
              "      <td>One of the better pumpkin ales I've tried so f...</td>\n",
              "      <td>{'min': 32, 'hour': 20, 'mday': 9, 'sec': 40, ...</td>\n",
              "      <td>1286656360</td>\n",
              "      <td>NaN</td>\n",
              "      <td>NaN</td>\n",
              "      <td>NaN</td>\n",
              "      <td>NaN</td>\n",
              "      <td>Daniellobo</td>\n",
              "    </tr>\n",
              "    <tr>\n",
              "      <th>8</th>\n",
              "      <td>47953</td>\n",
              "      <td>9.00</td>\n",
              "      <td>34361</td>\n",
              "      <td>394</td>\n",
              "      <td>Stoudt's Barrel Aged Old Abominable</td>\n",
              "      <td>English Barleywine</td>\n",
              "      <td>4.5</td>\n",
              "      <td>4.0</td>\n",
              "      <td>4.5</td>\n",
              "      <td>4.5</td>\n",
              "      <td>4.5</td>\n",
              "      <td>A snifter filled (several times over) from a 7...</td>\n",
              "      <td>{'min': 26, 'hour': 3, 'mday': 16, 'sec': 13, ...</td>\n",
              "      <td>1279250773</td>\n",
              "      <td>NaN</td>\n",
              "      <td>NaN</td>\n",
              "      <td>NaN</td>\n",
              "      <td>Male</td>\n",
              "      <td>msubulldog25</td>\n",
              "    </tr>\n",
              "    <tr>\n",
              "      <th>9</th>\n",
              "      <td>7047</td>\n",
              "      <td>6.20</td>\n",
              "      <td>32676</td>\n",
              "      <td>1386</td>\n",
              "      <td>One Hop Wonder IPA</td>\n",
              "      <td>American IPA</td>\n",
              "      <td>2.0</td>\n",
              "      <td>2.0</td>\n",
              "      <td>2.0</td>\n",
              "      <td>2.5</td>\n",
              "      <td>2.0</td>\n",
              "      <td>Brewed with five hop additions, this alleged I...</td>\n",
              "      <td>{'min': 26, 'hour': 5, 'mday': 16, 'sec': 41, ...</td>\n",
              "      <td>1160976401</td>\n",
              "      <td>NaN</td>\n",
              "      <td>NaN</td>\n",
              "      <td>NaN</td>\n",
              "      <td>NaN</td>\n",
              "      <td>RedDiamond</td>\n",
              "    </tr>\n",
              "    <tr>\n",
              "      <th>10</th>\n",
              "      <td>23198</td>\n",
              "      <td>8.50</td>\n",
              "      <td>7463</td>\n",
              "      <td>1199</td>\n",
              "      <td>Founders Dirty Bastard</td>\n",
              "      <td>Scotch Ale / Wee Heavy</td>\n",
              "      <td>4.5</td>\n",
              "      <td>4.5</td>\n",
              "      <td>4.5</td>\n",
              "      <td>4.5</td>\n",
              "      <td>4.5</td>\n",
              "      <td>Poured from 12 oz. bottle into a Sam Adams per...</td>\n",
              "      <td>{'min': 20, 'hour': 5, 'mday': 30, 'sec': 34, ...</td>\n",
              "      <td>1314681634</td>\n",
              "      <td>NaN</td>\n",
              "      <td>NaN</td>\n",
              "      <td>NaN</td>\n",
              "      <td>NaN</td>\n",
              "      <td>MattyG85</td>\n",
              "    </tr>\n",
              "    <tr>\n",
              "      <th>11</th>\n",
              "      <td>18518</td>\n",
              "      <td>10.50</td>\n",
              "      <td>21822</td>\n",
              "      <td>1199</td>\n",
              "      <td>Founders Imperial Stout</td>\n",
              "      <td>Russian Imperial Stout</td>\n",
              "      <td>4.5</td>\n",
              "      <td>4.0</td>\n",
              "      <td>4.0</td>\n",
              "      <td>4.0</td>\n",
              "      <td>4.0</td>\n",
              "      <td>Bottle poured into a tulip.\\t\\tA - Pours jet b...</td>\n",
              "      <td>{'min': 50, 'hour': 18, 'mday': 7, 'sec': 54, ...</td>\n",
              "      <td>1325962254</td>\n",
              "      <td>NaN</td>\n",
              "      <td>NaN</td>\n",
              "      <td>NaN</td>\n",
              "      <td>NaN</td>\n",
              "      <td>BeRanger</td>\n",
              "    </tr>\n",
              "    <tr>\n",
              "      <th>12</th>\n",
              "      <td>32481</td>\n",
              "      <td>11.20</td>\n",
              "      <td>19960</td>\n",
              "      <td>1199</td>\n",
              "      <td>Founders KBS (Kentucky Breakfast Stout)</td>\n",
              "      <td>American Double / Imperial Stout</td>\n",
              "      <td>4.5</td>\n",
              "      <td>4.5</td>\n",
              "      <td>5.0</td>\n",
              "      <td>4.5</td>\n",
              "      <td>5.0</td>\n",
              "      <td>Kentucky Breakfast Stout is yet another outsta...</td>\n",
              "      <td>{'min': 38, 'hour': 13, 'mday': 17, 'sec': 7, ...</td>\n",
              "      <td>1205761087</td>\n",
              "      <td>NaN</td>\n",
              "      <td>NaN</td>\n",
              "      <td>NaN</td>\n",
              "      <td>NaN</td>\n",
              "      <td>YonderWanderer</td>\n",
              "    </tr>\n",
              "    <tr>\n",
              "      <th>13</th>\n",
              "      <td>6821</td>\n",
              "      <td>8.40</td>\n",
              "      <td>12155</td>\n",
              "      <td>6277</td>\n",
              "      <td>Bogemia</td>\n",
              "      <td>Euro Pale Lager</td>\n",
              "      <td>3.0</td>\n",
              "      <td>2.0</td>\n",
              "      <td>2.0</td>\n",
              "      <td>2.5</td>\n",
              "      <td>2.0</td>\n",
              "      <td>A: 1 finger white head, a clear golden color\\t...</td>\n",
              "      <td>{'min': 26, 'hour': 2, 'mday': 21, 'sec': 6, '...</td>\n",
              "      <td>1142907966</td>\n",
              "      <td>NaN</td>\n",
              "      <td>NaN</td>\n",
              "      <td>NaN</td>\n",
              "      <td>Male</td>\n",
              "      <td>kamiller</td>\n",
              "    </tr>\n",
              "    <tr>\n",
              "      <th>14</th>\n",
              "      <td>47815</td>\n",
              "      <td>7.00</td>\n",
              "      <td>9906</td>\n",
              "      <td>394</td>\n",
              "      <td>Stoudt's Blonde Double MaiBock</td>\n",
              "      <td>Maibock / Helles Bock</td>\n",
              "      <td>4.5</td>\n",
              "      <td>3.0</td>\n",
              "      <td>4.0</td>\n",
              "      <td>4.0</td>\n",
              "      <td>4.0</td>\n",
              "      <td>Pours out in a pretty golden stream, filling t...</td>\n",
              "      <td>{'min': 45, 'hour': 22, 'mday': 8, 'sec': 54, ...</td>\n",
              "      <td>1144536354</td>\n",
              "      <td>NaN</td>\n",
              "      <td>NaN</td>\n",
              "      <td>NaN</td>\n",
              "      <td>NaN</td>\n",
              "      <td>Jeronimo</td>\n",
              "    </tr>\n",
              "    <tr>\n",
              "      <th>15</th>\n",
              "      <td>20012</td>\n",
              "      <td>8.30</td>\n",
              "      <td>11757</td>\n",
              "      <td>1199</td>\n",
              "      <td>Founders Breakfast Stout</td>\n",
              "      <td>American Double / Imperial Stout</td>\n",
              "      <td>3.0</td>\n",
              "      <td>3.0</td>\n",
              "      <td>4.0</td>\n",
              "      <td>4.0</td>\n",
              "      <td>4.5</td>\n",
              "      <td>A- pitch black- barely any head. \\tS- hint of ...</td>\n",
              "      <td>{'min': 11, 'hour': 1, 'mday': 3, 'sec': 47, '...</td>\n",
              "      <td>1272849107</td>\n",
              "      <td>NaN</td>\n",
              "      <td>NaN</td>\n",
              "      <td>NaN</td>\n",
              "      <td>NaN</td>\n",
              "      <td>AprilMarie</td>\n",
              "    </tr>\n",
              "    <tr>\n",
              "      <th>16</th>\n",
              "      <td>10794</td>\n",
              "      <td>6.50</td>\n",
              "      <td>960</td>\n",
              "      <td>365</td>\n",
              "      <td>Pike India Pale Ale</td>\n",
              "      <td>American IPA</td>\n",
              "      <td>4.0</td>\n",
              "      <td>3.5</td>\n",
              "      <td>3.0</td>\n",
              "      <td>3.0</td>\n",
              "      <td>3.5</td>\n",
              "      <td>Pours a clear tea-like color with a nice dense...</td>\n",
              "      <td>{'min': 17, 'hour': 4, 'mday': 18, 'sec': 2, '...</td>\n",
              "      <td>1082261822</td>\n",
              "      <td>NaN</td>\n",
              "      <td>NaN</td>\n",
              "      <td>NaN</td>\n",
              "      <td>NaN</td>\n",
              "      <td>BeerAngel</td>\n",
              "    </tr>\n",
              "    <tr>\n",
              "      <th>17</th>\n",
              "      <td>38293</td>\n",
              "      <td>9.20</td>\n",
              "      <td>46670</td>\n",
              "      <td>16386</td>\n",
              "      <td>Dank Imperial Red</td>\n",
              "      <td>American Amber / Red Ale</td>\n",
              "      <td>4.0</td>\n",
              "      <td>3.5</td>\n",
              "      <td>4.0</td>\n",
              "      <td>4.0</td>\n",
              "      <td>3.5</td>\n",
              "      <td>Thanks to exiled for sharing this bottle.\\t\\tT...</td>\n",
              "      <td>{'min': 28, 'hour': 18, 'mday': 17, 'sec': 24,...</td>\n",
              "      <td>1266431304</td>\n",
              "      <td>NaN</td>\n",
              "      <td>NaN</td>\n",
              "      <td>NaN</td>\n",
              "      <td>NaN</td>\n",
              "      <td>Mora2000</td>\n",
              "    </tr>\n",
              "    <tr>\n",
              "      <th>18</th>\n",
              "      <td>40148</td>\n",
              "      <td>5.00</td>\n",
              "      <td>46634</td>\n",
              "      <td>14338</td>\n",
              "      <td>Chiostro</td>\n",
              "      <td>Herbed / Spiced Beer</td>\n",
              "      <td>4.0</td>\n",
              "      <td>4.0</td>\n",
              "      <td>4.0</td>\n",
              "      <td>4.0</td>\n",
              "      <td>4.0</td>\n",
              "      <td>I had this on tap at kickbacks and I was pleas...</td>\n",
              "      <td>{'min': 10, 'hour': 15, 'mday': 7, 'sec': 8, '...</td>\n",
              "      <td>1286464208</td>\n",
              "      <td>NaN</td>\n",
              "      <td>NaN</td>\n",
              "      <td>NaN</td>\n",
              "      <td>NaN</td>\n",
              "      <td>CampusCrew</td>\n",
              "    </tr>\n",
              "    <tr>\n",
              "      <th>19</th>\n",
              "      <td>29757</td>\n",
              "      <td>7.20</td>\n",
              "      <td>5441</td>\n",
              "      <td>1199</td>\n",
              "      <td>Founders Centennial IPA</td>\n",
              "      <td>American IPA</td>\n",
              "      <td>3.5</td>\n",
              "      <td>3.5</td>\n",
              "      <td>4.0</td>\n",
              "      <td>4.0</td>\n",
              "      <td>3.5</td>\n",
              "      <td>The Centennial IPA pours a nicely carbonated r...</td>\n",
              "      <td>{'min': 40, 'hour': 0, 'mday': 11, 'sec': 0, '...</td>\n",
              "      <td>1081644000</td>\n",
              "      <td>1.203865e+09</td>\n",
              "      <td>Oct 18, 1976</td>\n",
              "      <td>214470000.0</td>\n",
              "      <td>Male</td>\n",
              "      <td>hustlemuscle</td>\n",
              "    </tr>\n",
              "    <tr>\n",
              "      <th>20</th>\n",
              "      <td>19174</td>\n",
              "      <td>10.50</td>\n",
              "      <td>21822</td>\n",
              "      <td>1199</td>\n",
              "      <td>Founders Imperial Stout</td>\n",
              "      <td>Russian Imperial Stout</td>\n",
              "      <td>4.5</td>\n",
              "      <td>4.5</td>\n",
              "      <td>4.0</td>\n",
              "      <td>4.0</td>\n",
              "      <td>4.5</td>\n",
              "      <td>Founders Imperial Stout is a tasty RIS with so...</td>\n",
              "      <td>{'min': 56, 'hour': 2, 'mday': 24, 'sec': 56, ...</td>\n",
              "      <td>1314154616</td>\n",
              "      <td>NaN</td>\n",
              "      <td>NaN</td>\n",
              "      <td>NaN</td>\n",
              "      <td>NaN</td>\n",
              "      <td>vandemonian</td>\n",
              "    </tr>\n",
              "    <tr>\n",
              "      <th>21</th>\n",
              "      <td>13863</td>\n",
              "      <td>6.00</td>\n",
              "      <td>17183</td>\n",
              "      <td>14</td>\n",
              "      <td>EZ Ryeder</td>\n",
              "      <td>Rye Beer</td>\n",
              "      <td>4.0</td>\n",
              "      <td>4.5</td>\n",
              "      <td>4.0</td>\n",
              "      <td>4.0</td>\n",
              "      <td>4.5</td>\n",
              "      <td>I had this on tap at CBC, Being an IPA that in...</td>\n",
              "      <td>{'min': 1, 'hour': 15, 'mday': 29, 'sec': 39, ...</td>\n",
              "      <td>1107010899</td>\n",
              "      <td>NaN</td>\n",
              "      <td>NaN</td>\n",
              "      <td>NaN</td>\n",
              "      <td>NaN</td>\n",
              "      <td>carln26</td>\n",
              "    </tr>\n",
              "    <tr>\n",
              "      <th>22</th>\n",
              "      <td>35307</td>\n",
              "      <td>5.50</td>\n",
              "      <td>13350</td>\n",
              "      <td>3268</td>\n",
              "      <td>Pumpkin Ale</td>\n",
              "      <td>Pumpkin Ale</td>\n",
              "      <td>3.0</td>\n",
              "      <td>4.0</td>\n",
              "      <td>5.0</td>\n",
              "      <td>4.5</td>\n",
              "      <td>4.5</td>\n",
              "      <td>Pours a murky amber with a nice off-white head...</td>\n",
              "      <td>{'min': 24, 'hour': 16, 'mday': 28, 'sec': 50,...</td>\n",
              "      <td>1130516690</td>\n",
              "      <td>1.110294e+09</td>\n",
              "      <td>Oct 6, 1979</td>\n",
              "      <td>308041200.0</td>\n",
              "      <td>Male</td>\n",
              "      <td>nogoodreason</td>\n",
              "    </tr>\n",
              "    <tr>\n",
              "      <th>23</th>\n",
              "      <td>16164</td>\n",
              "      <td>12.00</td>\n",
              "      <td>17538</td>\n",
              "      <td>1199</td>\n",
              "      <td>Founders Devil Dancer</td>\n",
              "      <td>American Double / Imperial IPA</td>\n",
              "      <td>4.0</td>\n",
              "      <td>4.0</td>\n",
              "      <td>4.0</td>\n",
              "      <td>4.5</td>\n",
              "      <td>4.0</td>\n",
              "      <td>Got this from a best friend that shipped it ba...</td>\n",
              "      <td>{'min': 53, 'hour': 23, 'mday': 30, 'sec': 4, ...</td>\n",
              "      <td>1248997984</td>\n",
              "      <td>NaN</td>\n",
              "      <td>NaN</td>\n",
              "      <td>NaN</td>\n",
              "      <td>NaN</td>\n",
              "      <td>Jmoore50</td>\n",
              "    </tr>\n",
              "    <tr>\n",
              "      <th>24</th>\n",
              "      <td>638</td>\n",
              "      <td>6.10</td>\n",
              "      <td>10784</td>\n",
              "      <td>1075</td>\n",
              "      <td>Caldera IPA</td>\n",
              "      <td>American IPA</td>\n",
              "      <td>4.0</td>\n",
              "      <td>4.0</td>\n",
              "      <td>4.0</td>\n",
              "      <td>4.0</td>\n",
              "      <td>4.0</td>\n",
              "      <td>I had this one on tap at the Horse Brass in Po...</td>\n",
              "      <td>{'min': 55, 'hour': 22, 'mday': 25, 'sec': 3, ...</td>\n",
              "      <td>1111791303</td>\n",
              "      <td>NaN</td>\n",
              "      <td>NaN</td>\n",
              "      <td>NaN</td>\n",
              "      <td>NaN</td>\n",
              "      <td>bootylicious</td>\n",
              "    </tr>\n",
              "    <tr>\n",
              "      <th>25</th>\n",
              "      <td>3909</td>\n",
              "      <td>8.40</td>\n",
              "      <td>52211</td>\n",
              "      <td>14879</td>\n",
              "      <td>Frog's Hollow Double Pumpkin Ale</td>\n",
              "      <td>Pumpkin Ale</td>\n",
              "      <td>3.5</td>\n",
              "      <td>4.0</td>\n",
              "      <td>4.0</td>\n",
              "      <td>4.0</td>\n",
              "      <td>4.0</td>\n",
              "      <td>Got this brew in a recent BIF. Thanks Auslande...</td>\n",
              "      <td>{'min': 23, 'hour': 3, 'mday': 16, 'sec': 51, ...</td>\n",
              "      <td>1287199431</td>\n",
              "      <td>NaN</td>\n",
              "      <td>NaN</td>\n",
              "      <td>NaN</td>\n",
              "      <td>Male</td>\n",
              "      <td>steve8robin</td>\n",
              "    </tr>\n",
              "    <tr>\n",
              "      <th>26</th>\n",
              "      <td>47650</td>\n",
              "      <td>4.75</td>\n",
              "      <td>1154</td>\n",
              "      <td>394</td>\n",
              "      <td>Stoudt's Fest</td>\n",
              "      <td>MÃ¤rzen / Oktoberfest</td>\n",
              "      <td>4.0</td>\n",
              "      <td>4.0</td>\n",
              "      <td>4.5</td>\n",
              "      <td>4.5</td>\n",
              "      <td>4.5</td>\n",
              "      <td>A great Helles O-fest.\\t\\tA: Bronze with an of...</td>\n",
              "      <td>{'min': 34, 'hour': 20, 'mday': 17, 'sec': 15,...</td>\n",
              "      <td>1263760455</td>\n",
              "      <td>NaN</td>\n",
              "      <td>NaN</td>\n",
              "      <td>NaN</td>\n",
              "      <td>NaN</td>\n",
              "      <td>Derek</td>\n",
              "    </tr>\n",
              "    <tr>\n",
              "      <th>27</th>\n",
              "      <td>20991</td>\n",
              "      <td>8.30</td>\n",
              "      <td>11757</td>\n",
              "      <td>1199</td>\n",
              "      <td>Founders Breakfast Stout</td>\n",
              "      <td>American Double / Imperial Stout</td>\n",
              "      <td>4.0</td>\n",
              "      <td>4.0</td>\n",
              "      <td>4.5</td>\n",
              "      <td>4.0</td>\n",
              "      <td>4.5</td>\n",
              "      <td>12oz stubby brown bottle, poured into a brandy...</td>\n",
              "      <td>{'min': 58, 'hour': 18, 'mday': 6, 'sec': 45, ...</td>\n",
              "      <td>1223319525</td>\n",
              "      <td>NaN</td>\n",
              "      <td>NaN</td>\n",
              "      <td>NaN</td>\n",
              "      <td>Male</td>\n",
              "      <td>bluemoonswoon</td>\n",
              "    </tr>\n",
              "    <tr>\n",
              "      <th>28</th>\n",
              "      <td>16520</td>\n",
              "      <td>12.00</td>\n",
              "      <td>17538</td>\n",
              "      <td>1199</td>\n",
              "      <td>Founders Devil Dancer</td>\n",
              "      <td>American Double / Imperial IPA</td>\n",
              "      <td>4.0</td>\n",
              "      <td>3.5</td>\n",
              "      <td>4.0</td>\n",
              "      <td>4.0</td>\n",
              "      <td>4.0</td>\n",
              "      <td>Poured this 12 oz. undated brown bottle into a...</td>\n",
              "      <td>{'min': 10, 'hour': 2, 'mday': 1, 'sec': 30, '...</td>\n",
              "      <td>1164939030</td>\n",
              "      <td>NaN</td>\n",
              "      <td>NaN</td>\n",
              "      <td>NaN</td>\n",
              "      <td>NaN</td>\n",
              "      <td>Cresant</td>\n",
              "    </tr>\n",
              "    <tr>\n",
              "      <th>29</th>\n",
              "      <td>37946</td>\n",
              "      <td>4.70</td>\n",
              "      <td>3824</td>\n",
              "      <td>1417</td>\n",
              "      <td>Monty Python's Holy Grail Ale</td>\n",
              "      <td>English Pale Ale</td>\n",
              "      <td>4.0</td>\n",
              "      <td>3.0</td>\n",
              "      <td>4.5</td>\n",
              "      <td>3.5</td>\n",
              "      <td>4.0</td>\n",
              "      <td>Pours a bright amber with a billowy head. Nose...</td>\n",
              "      <td>{'min': 1, 'hour': 4, 'mday': 31, 'sec': 23, '...</td>\n",
              "      <td>1080705683</td>\n",
              "      <td>NaN</td>\n",
              "      <td>NaN</td>\n",
              "      <td>NaN</td>\n",
              "      <td>NaN</td>\n",
              "      <td>assurbanipaul</td>\n",
              "    </tr>\n",
              "  </tbody>\n",
              "</table>\n",
              "</div>"
            ],
            "text/plain": [
              "    index  beer/ABV  ...  user/gender  user/profileName\n",
              "0   40163      5.00  ...          NaN        RblWthACoz\n",
              "1    8135     11.00  ...          NaN           BeerSox\n",
              "2   10529      4.70  ...         Male        mschofield\n",
              "3   44610      4.40  ...         Male         molegar76\n",
              "4   37062      4.40  ...          NaN        Brewbro000\n",
              "5   14095     10.00  ...          NaN       perrymarcus\n",
              "6   13759     12.60  ...          NaN   GratefulBeerGuy\n",
              "7    3914      8.40  ...          NaN        Daniellobo\n",
              "8   47953      9.00  ...         Male      msubulldog25\n",
              "9    7047      6.20  ...          NaN        RedDiamond\n",
              "10  23198      8.50  ...          NaN          MattyG85\n",
              "11  18518     10.50  ...          NaN          BeRanger\n",
              "12  32481     11.20  ...          NaN    YonderWanderer\n",
              "13   6821      8.40  ...         Male          kamiller\n",
              "14  47815      7.00  ...          NaN          Jeronimo\n",
              "15  20012      8.30  ...          NaN        AprilMarie\n",
              "16  10794      6.50  ...          NaN         BeerAngel\n",
              "17  38293      9.20  ...          NaN          Mora2000\n",
              "18  40148      5.00  ...          NaN        CampusCrew\n",
              "19  29757      7.20  ...         Male      hustlemuscle\n",
              "20  19174     10.50  ...          NaN       vandemonian\n",
              "21  13863      6.00  ...          NaN           carln26\n",
              "22  35307      5.50  ...         Male      nogoodreason\n",
              "23  16164     12.00  ...          NaN          Jmoore50\n",
              "24    638      6.10  ...          NaN      bootylicious\n",
              "25   3909      8.40  ...         Male       steve8robin\n",
              "26  47650      4.75  ...          NaN             Derek\n",
              "27  20991      8.30  ...         Male     bluemoonswoon\n",
              "28  16520     12.00  ...          NaN           Cresant\n",
              "29  37946      4.70  ...          NaN     assurbanipaul\n",
              "\n",
              "[30 rows x 19 columns]"
            ]
          },
          "metadata": {
            "tags": []
          },
          "execution_count": 3
        }
      ]
    },
    {
      "cell_type": "code",
      "metadata": {
        "colab": {
          "base_uri": "https://localhost:8080/",
          "height": 317
        },
        "id": "vGgKLlNDI8sE",
        "outputId": "6812956f-3bb6-41e1-b541-81012343765a"
      },
      "source": [
        "df.drop('index',axis=1).describe() #Statistical evaluation of all numerical variables, the max, the min, standard deviation, mean and IQR"
      ],
      "execution_count": null,
      "outputs": [
        {
          "output_type": "execute_result",
          "data": {
            "text/html": [
              "<div>\n",
              "<style scoped>\n",
              "    .dataframe tbody tr th:only-of-type {\n",
              "        vertical-align: middle;\n",
              "    }\n",
              "\n",
              "    .dataframe tbody tr th {\n",
              "        vertical-align: top;\n",
              "    }\n",
              "\n",
              "    .dataframe thead th {\n",
              "        text-align: right;\n",
              "    }\n",
              "</style>\n",
              "<table border=\"1\" class=\"dataframe\">\n",
              "  <thead>\n",
              "    <tr style=\"text-align: right;\">\n",
              "      <th></th>\n",
              "      <th>beer/ABV</th>\n",
              "      <th>beer/beerId</th>\n",
              "      <th>beer/brewerId</th>\n",
              "      <th>review/appearance</th>\n",
              "      <th>review/aroma</th>\n",
              "      <th>review/overall</th>\n",
              "      <th>review/palate</th>\n",
              "      <th>review/taste</th>\n",
              "      <th>review/timeUnix</th>\n",
              "      <th>user/ageInSeconds</th>\n",
              "      <th>user/birthdayUnix</th>\n",
              "    </tr>\n",
              "  </thead>\n",
              "  <tbody>\n",
              "    <tr>\n",
              "      <th>count</th>\n",
              "      <td>37500.000000</td>\n",
              "      <td>37500.000000</td>\n",
              "      <td>37500.000000</td>\n",
              "      <td>37500.000000</td>\n",
              "      <td>37500.000000</td>\n",
              "      <td>37500.00000</td>\n",
              "      <td>37500.000000</td>\n",
              "      <td>37500.000000</td>\n",
              "      <td>3.750000e+04</td>\n",
              "      <td>7.856000e+03</td>\n",
              "      <td>7.856000e+03</td>\n",
              "    </tr>\n",
              "    <tr>\n",
              "      <th>mean</th>\n",
              "      <td>7.403725</td>\n",
              "      <td>21861.152027</td>\n",
              "      <td>3036.595120</td>\n",
              "      <td>3.900053</td>\n",
              "      <td>3.873240</td>\n",
              "      <td>3.88944</td>\n",
              "      <td>3.854867</td>\n",
              "      <td>3.922440</td>\n",
              "      <td>1.232794e+09</td>\n",
              "      <td>1.176705e+09</td>\n",
              "      <td>2.416303e+08</td>\n",
              "    </tr>\n",
              "    <tr>\n",
              "      <th>std</th>\n",
              "      <td>2.318145</td>\n",
              "      <td>18923.130832</td>\n",
              "      <td>5123.084675</td>\n",
              "      <td>0.588778</td>\n",
              "      <td>0.680865</td>\n",
              "      <td>0.70045</td>\n",
              "      <td>0.668068</td>\n",
              "      <td>0.716504</td>\n",
              "      <td>7.190955e+07</td>\n",
              "      <td>3.375514e+08</td>\n",
              "      <td>3.375514e+08</td>\n",
              "    </tr>\n",
              "    <tr>\n",
              "      <th>min</th>\n",
              "      <td>0.100000</td>\n",
              "      <td>175.000000</td>\n",
              "      <td>1.000000</td>\n",
              "      <td>0.000000</td>\n",
              "      <td>1.000000</td>\n",
              "      <td>0.00000</td>\n",
              "      <td>1.000000</td>\n",
              "      <td>1.000000</td>\n",
              "      <td>9.262944e+08</td>\n",
              "      <td>7.034366e+08</td>\n",
              "      <td>-2.208960e+09</td>\n",
              "    </tr>\n",
              "    <tr>\n",
              "      <th>25%</th>\n",
              "      <td>5.400000</td>\n",
              "      <td>5441.000000</td>\n",
              "      <td>395.000000</td>\n",
              "      <td>3.500000</td>\n",
              "      <td>3.500000</td>\n",
              "      <td>3.50000</td>\n",
              "      <td>3.500000</td>\n",
              "      <td>3.500000</td>\n",
              "      <td>1.189194e+09</td>\n",
              "      <td>9.794810e+08</td>\n",
              "      <td>1.433628e+08</td>\n",
              "    </tr>\n",
              "    <tr>\n",
              "      <th>50%</th>\n",
              "      <td>6.900000</td>\n",
              "      <td>17538.000000</td>\n",
              "      <td>1199.000000</td>\n",
              "      <td>4.000000</td>\n",
              "      <td>4.000000</td>\n",
              "      <td>4.00000</td>\n",
              "      <td>4.000000</td>\n",
              "      <td>4.000000</td>\n",
              "      <td>1.248150e+09</td>\n",
              "      <td>1.100009e+09</td>\n",
              "      <td>3.183264e+08</td>\n",
              "    </tr>\n",
              "    <tr>\n",
              "      <th>75%</th>\n",
              "      <td>9.400000</td>\n",
              "      <td>34146.000000</td>\n",
              "      <td>1315.000000</td>\n",
              "      <td>4.500000</td>\n",
              "      <td>4.500000</td>\n",
              "      <td>4.50000</td>\n",
              "      <td>4.500000</td>\n",
              "      <td>4.500000</td>\n",
              "      <td>1.291330e+09</td>\n",
              "      <td>1.274973e+09</td>\n",
              "      <td>4.388544e+08</td>\n",
              "    </tr>\n",
              "    <tr>\n",
              "      <th>max</th>\n",
              "      <td>57.700000</td>\n",
              "      <td>77207.000000</td>\n",
              "      <td>27797.000000</td>\n",
              "      <td>5.000000</td>\n",
              "      <td>5.000000</td>\n",
              "      <td>5.00000</td>\n",
              "      <td>5.000000</td>\n",
              "      <td>5.000000</td>\n",
              "      <td>1.326267e+09</td>\n",
              "      <td>3.627295e+09</td>\n",
              "      <td>7.148988e+08</td>\n",
              "    </tr>\n",
              "  </tbody>\n",
              "</table>\n",
              "</div>"
            ],
            "text/plain": [
              "           beer/ABV   beer/beerId  ...  user/ageInSeconds  user/birthdayUnix\n",
              "count  37500.000000  37500.000000  ...       7.856000e+03       7.856000e+03\n",
              "mean       7.403725  21861.152027  ...       1.176705e+09       2.416303e+08\n",
              "std        2.318145  18923.130832  ...       3.375514e+08       3.375514e+08\n",
              "min        0.100000    175.000000  ...       7.034366e+08      -2.208960e+09\n",
              "25%        5.400000   5441.000000  ...       9.794810e+08       1.433628e+08\n",
              "50%        6.900000  17538.000000  ...       1.100009e+09       3.183264e+08\n",
              "75%        9.400000  34146.000000  ...       1.274973e+09       4.388544e+08\n",
              "max       57.700000  77207.000000  ...       3.627295e+09       7.148988e+08\n",
              "\n",
              "[8 rows x 11 columns]"
            ]
          },
          "metadata": {
            "tags": []
          },
          "execution_count": 4
        }
      ]
    },
    {
      "cell_type": "code",
      "metadata": {
        "colab": {
          "base_uri": "https://localhost:8080/"
        },
        "id": "VhRnJEr3_ylq",
        "outputId": "fd821354-8386-4ca9-9aa7-27f2b13d306e"
      },
      "source": [
        "df['review/text'].isna().sum()"
      ],
      "execution_count": null,
      "outputs": [
        {
          "output_type": "execute_result",
          "data": {
            "text/plain": [
              "10"
            ]
          },
          "metadata": {
            "tags": []
          },
          "execution_count": 3
        }
      ]
    },
    {
      "cell_type": "code",
      "metadata": {
        "colab": {
          "base_uri": "https://localhost:8080/"
        },
        "id": "nhtNPLosAnr2",
        "outputId": "7d043b3c-6050-41e5-c5d1-43570262e400"
      },
      "source": [
        "df['beer/name'].isna().sum(),df['beer/style'].isna().sum()"
      ],
      "execution_count": null,
      "outputs": [
        {
          "output_type": "execute_result",
          "data": {
            "text/plain": [
              "(0, 0)"
            ]
          },
          "metadata": {
            "tags": []
          },
          "execution_count": 4
        }
      ]
    },
    {
      "cell_type": "code",
      "metadata": {
        "id": "jL5N7G_xAmlf"
      },
      "source": [
        "df.dropna(subset =['review/text'],inplace=True)"
      ],
      "execution_count": null,
      "outputs": []
    },
    {
      "cell_type": "code",
      "metadata": {
        "colab": {
          "base_uri": "https://localhost:8080/",
          "height": 235
        },
        "id": "uBSL72VdElIo",
        "outputId": "833a07bd-ddad-44f8-92e4-ec290209b1c7"
      },
      "source": [
        "df[['beer/ABV','review/appearance','review/aroma','review/palate','review/taste','review/overall']].corr() #Which numerical variable influence the dependent variable the most"
      ],
      "execution_count": null,
      "outputs": [
        {
          "output_type": "execute_result",
          "data": {
            "text/html": [
              "<div>\n",
              "<style scoped>\n",
              "    .dataframe tbody tr th:only-of-type {\n",
              "        vertical-align: middle;\n",
              "    }\n",
              "\n",
              "    .dataframe tbody tr th {\n",
              "        vertical-align: top;\n",
              "    }\n",
              "\n",
              "    .dataframe thead th {\n",
              "        text-align: right;\n",
              "    }\n",
              "</style>\n",
              "<table border=\"1\" class=\"dataframe\">\n",
              "  <thead>\n",
              "    <tr style=\"text-align: right;\">\n",
              "      <th></th>\n",
              "      <th>beer/ABV</th>\n",
              "      <th>review/appearance</th>\n",
              "      <th>review/aroma</th>\n",
              "      <th>review/palate</th>\n",
              "      <th>review/taste</th>\n",
              "      <th>review/overall</th>\n",
              "    </tr>\n",
              "  </thead>\n",
              "  <tbody>\n",
              "    <tr>\n",
              "      <th>beer/ABV</th>\n",
              "      <td>1.000000</td>\n",
              "      <td>0.288139</td>\n",
              "      <td>0.386160</td>\n",
              "      <td>0.350536</td>\n",
              "      <td>0.353878</td>\n",
              "      <td>0.196780</td>\n",
              "    </tr>\n",
              "    <tr>\n",
              "      <th>review/appearance</th>\n",
              "      <td>0.288139</td>\n",
              "      <td>1.000000</td>\n",
              "      <td>0.537925</td>\n",
              "      <td>0.555750</td>\n",
              "      <td>0.531560</td>\n",
              "      <td>0.498628</td>\n",
              "    </tr>\n",
              "    <tr>\n",
              "      <th>review/aroma</th>\n",
              "      <td>0.386160</td>\n",
              "      <td>0.537925</td>\n",
              "      <td>1.000000</td>\n",
              "      <td>0.608895</td>\n",
              "      <td>0.711766</td>\n",
              "      <td>0.616031</td>\n",
              "    </tr>\n",
              "    <tr>\n",
              "      <th>review/palate</th>\n",
              "      <td>0.350536</td>\n",
              "      <td>0.555750</td>\n",
              "      <td>0.608895</td>\n",
              "      <td>1.000000</td>\n",
              "      <td>0.732036</td>\n",
              "      <td>0.697172</td>\n",
              "    </tr>\n",
              "    <tr>\n",
              "      <th>review/taste</th>\n",
              "      <td>0.353878</td>\n",
              "      <td>0.531560</td>\n",
              "      <td>0.711766</td>\n",
              "      <td>0.732036</td>\n",
              "      <td>1.000000</td>\n",
              "      <td>0.785174</td>\n",
              "    </tr>\n",
              "    <tr>\n",
              "      <th>review/overall</th>\n",
              "      <td>0.196780</td>\n",
              "      <td>0.498628</td>\n",
              "      <td>0.616031</td>\n",
              "      <td>0.697172</td>\n",
              "      <td>0.785174</td>\n",
              "      <td>1.000000</td>\n",
              "    </tr>\n",
              "  </tbody>\n",
              "</table>\n",
              "</div>"
            ],
            "text/plain": [
              "                   beer/ABV  review/appearance  ...  review/taste  review/overall\n",
              "beer/ABV           1.000000           0.288139  ...      0.353878        0.196780\n",
              "review/appearance  0.288139           1.000000  ...      0.531560        0.498628\n",
              "review/aroma       0.386160           0.537925  ...      0.711766        0.616031\n",
              "review/palate      0.350536           0.555750  ...      0.732036        0.697172\n",
              "review/taste       0.353878           0.531560  ...      1.000000        0.785174\n",
              "review/overall     0.196780           0.498628  ...      0.785174        1.000000\n",
              "\n",
              "[6 rows x 6 columns]"
            ]
          },
          "metadata": {
            "tags": []
          },
          "execution_count": 8
        }
      ]
    },
    {
      "cell_type": "code",
      "metadata": {
        "id": "AxXSDPkEKcZN"
      },
      "source": [
        "X_df = df.drop(['index','beer/beerId','beer/brewerId','review/overall','review/timeStruct','review/timeUnix','user/birthdayRaw','user/birthdayUnix','user/profileName','user/ageInSeconds','user/gender'],axis=1)"
      ],
      "execution_count": null,
      "outputs": []
    },
    {
      "cell_type": "code",
      "metadata": {
        "colab": {
          "base_uri": "https://localhost:8080/",
          "height": 479
        },
        "id": "g2ty-ETQLd-t",
        "outputId": "09a8b6b6-dbc1-4ed6-cd93-9fb07d4fb466"
      },
      "source": [
        "X_df.head()"
      ],
      "execution_count": null,
      "outputs": [
        {
          "output_type": "execute_result",
          "data": {
            "text/html": [
              "<div>\n",
              "<style scoped>\n",
              "    .dataframe tbody tr th:only-of-type {\n",
              "        vertical-align: middle;\n",
              "    }\n",
              "\n",
              "    .dataframe tbody tr th {\n",
              "        vertical-align: top;\n",
              "    }\n",
              "\n",
              "    .dataframe thead th {\n",
              "        text-align: right;\n",
              "    }\n",
              "</style>\n",
              "<table border=\"1\" class=\"dataframe\">\n",
              "  <thead>\n",
              "    <tr style=\"text-align: right;\">\n",
              "      <th></th>\n",
              "      <th>beer/ABV</th>\n",
              "      <th>beer/name</th>\n",
              "      <th>beer/style</th>\n",
              "      <th>review/appearance</th>\n",
              "      <th>review/aroma</th>\n",
              "      <th>review/palate</th>\n",
              "      <th>review/taste</th>\n",
              "      <th>review/text</th>\n",
              "    </tr>\n",
              "  </thead>\n",
              "  <tbody>\n",
              "    <tr>\n",
              "      <th>0</th>\n",
              "      <td>5.0</td>\n",
              "      <td>Chiostro</td>\n",
              "      <td>Herbed / Spiced Beer</td>\n",
              "      <td>4.0</td>\n",
              "      <td>4.0</td>\n",
              "      <td>4.0</td>\n",
              "      <td>4.0</td>\n",
              "      <td>Pours a clouded gold with a thin white head. N...</td>\n",
              "    </tr>\n",
              "    <tr>\n",
              "      <th>1</th>\n",
              "      <td>11.0</td>\n",
              "      <td>Bearded Pat's Barleywine</td>\n",
              "      <td>American Barleywine</td>\n",
              "      <td>4.0</td>\n",
              "      <td>3.5</td>\n",
              "      <td>3.5</td>\n",
              "      <td>3.0</td>\n",
              "      <td>12oz bottle into 8oz snifter.\\t\\tDeep ruby red...</td>\n",
              "    </tr>\n",
              "    <tr>\n",
              "      <th>2</th>\n",
              "      <td>4.7</td>\n",
              "      <td>Naughty Nellie's Ale</td>\n",
              "      <td>American Pale Ale (APA)</td>\n",
              "      <td>3.5</td>\n",
              "      <td>4.0</td>\n",
              "      <td>3.5</td>\n",
              "      <td>3.5</td>\n",
              "      <td>First enjoyed at the brewpub about 2 years ago...</td>\n",
              "    </tr>\n",
              "    <tr>\n",
              "      <th>3</th>\n",
              "      <td>4.4</td>\n",
              "      <td>Pilsner Urquell</td>\n",
              "      <td>Czech Pilsener</td>\n",
              "      <td>3.0</td>\n",
              "      <td>3.0</td>\n",
              "      <td>3.0</td>\n",
              "      <td>3.0</td>\n",
              "      <td>First thing I noticed after pouring from green...</td>\n",
              "    </tr>\n",
              "    <tr>\n",
              "      <th>4</th>\n",
              "      <td>4.4</td>\n",
              "      <td>Black Sheep Ale (Special)</td>\n",
              "      <td>English Pale Ale</td>\n",
              "      <td>4.0</td>\n",
              "      <td>3.0</td>\n",
              "      <td>3.5</td>\n",
              "      <td>2.5</td>\n",
              "      <td>A: pours an amber with a one finger head but o...</td>\n",
              "    </tr>\n",
              "  </tbody>\n",
              "</table>\n",
              "</div>"
            ],
            "text/plain": [
              "   beer/ABV  ...                                        review/text\n",
              "0       5.0  ...  Pours a clouded gold with a thin white head. N...\n",
              "1      11.0  ...  12oz bottle into 8oz snifter.\\t\\tDeep ruby red...\n",
              "2       4.7  ...  First enjoyed at the brewpub about 2 years ago...\n",
              "3       4.4  ...  First thing I noticed after pouring from green...\n",
              "4       4.4  ...  A: pours an amber with a one finger head but o...\n",
              "\n",
              "[5 rows x 8 columns]"
            ]
          },
          "metadata": {
            "tags": []
          },
          "execution_count": 10
        }
      ]
    },
    {
      "cell_type": "code",
      "metadata": {
        "colab": {
          "base_uri": "https://localhost:8080/",
          "height": 204
        },
        "id": "_p5nx5V2L3W3",
        "outputId": "97cebde9-f8f2-43af-cb63-c4008d4e2167"
      },
      "source": [
        "X_df.corr() #Which are the highly correlated independent numerical variables"
      ],
      "execution_count": null,
      "outputs": [
        {
          "output_type": "execute_result",
          "data": {
            "text/html": [
              "<div>\n",
              "<style scoped>\n",
              "    .dataframe tbody tr th:only-of-type {\n",
              "        vertical-align: middle;\n",
              "    }\n",
              "\n",
              "    .dataframe tbody tr th {\n",
              "        vertical-align: top;\n",
              "    }\n",
              "\n",
              "    .dataframe thead th {\n",
              "        text-align: right;\n",
              "    }\n",
              "</style>\n",
              "<table border=\"1\" class=\"dataframe\">\n",
              "  <thead>\n",
              "    <tr style=\"text-align: right;\">\n",
              "      <th></th>\n",
              "      <th>beer/ABV</th>\n",
              "      <th>review/appearance</th>\n",
              "      <th>review/aroma</th>\n",
              "      <th>review/palate</th>\n",
              "      <th>review/taste</th>\n",
              "    </tr>\n",
              "  </thead>\n",
              "  <tbody>\n",
              "    <tr>\n",
              "      <th>beer/ABV</th>\n",
              "      <td>1.000000</td>\n",
              "      <td>0.288139</td>\n",
              "      <td>0.386160</td>\n",
              "      <td>0.350536</td>\n",
              "      <td>0.353878</td>\n",
              "    </tr>\n",
              "    <tr>\n",
              "      <th>review/appearance</th>\n",
              "      <td>0.288139</td>\n",
              "      <td>1.000000</td>\n",
              "      <td>0.537925</td>\n",
              "      <td>0.555750</td>\n",
              "      <td>0.531560</td>\n",
              "    </tr>\n",
              "    <tr>\n",
              "      <th>review/aroma</th>\n",
              "      <td>0.386160</td>\n",
              "      <td>0.537925</td>\n",
              "      <td>1.000000</td>\n",
              "      <td>0.608895</td>\n",
              "      <td>0.711766</td>\n",
              "    </tr>\n",
              "    <tr>\n",
              "      <th>review/palate</th>\n",
              "      <td>0.350536</td>\n",
              "      <td>0.555750</td>\n",
              "      <td>0.608895</td>\n",
              "      <td>1.000000</td>\n",
              "      <td>0.732036</td>\n",
              "    </tr>\n",
              "    <tr>\n",
              "      <th>review/taste</th>\n",
              "      <td>0.353878</td>\n",
              "      <td>0.531560</td>\n",
              "      <td>0.711766</td>\n",
              "      <td>0.732036</td>\n",
              "      <td>1.000000</td>\n",
              "    </tr>\n",
              "  </tbody>\n",
              "</table>\n",
              "</div>"
            ],
            "text/plain": [
              "                   beer/ABV  review/appearance  ...  review/palate  review/taste\n",
              "beer/ABV           1.000000           0.288139  ...       0.350536      0.353878\n",
              "review/appearance  0.288139           1.000000  ...       0.555750      0.531560\n",
              "review/aroma       0.386160           0.537925  ...       0.608895      0.711766\n",
              "review/palate      0.350536           0.555750  ...       1.000000      0.732036\n",
              "review/taste       0.353878           0.531560  ...       0.732036      1.000000\n",
              "\n",
              "[5 rows x 5 columns]"
            ]
          },
          "metadata": {
            "tags": []
          },
          "execution_count": 11
        }
      ]
    },
    {
      "cell_type": "code",
      "metadata": {
        "colab": {
          "base_uri": "https://localhost:8080/"
        },
        "id": "x0c5B8nVMYHe",
        "outputId": "d037f55b-07e9-46e6-e75f-02366f09d5ed"
      },
      "source": [
        "df['beer/name'].value_counts()"
      ],
      "execution_count": null,
      "outputs": [
        {
          "output_type": "execute_result",
          "data": {
            "text/plain": [
              "Founders Breakfast Stout                   1883\n",
              "Founders KBS (Kentucky Breakfast Stout)    1439\n",
              "Founders Centennial IPA                    1063\n",
              "Founders Red's Rye PA                      1051\n",
              "Founders Dirty Bastard                      983\n",
              "                                           ... \n",
              "D'n Osse Frater Bokbier                       1\n",
              "Maibock                                       1\n",
              "Krystal Weis                                  1\n",
              "Log Towne Lager                               1\n",
              "Zahre Affumicata                              1\n",
              "Name: beer/name, Length: 1688, dtype: int64"
            ]
          },
          "metadata": {
            "tags": []
          },
          "execution_count": 12
        }
      ]
    },
    {
      "cell_type": "code",
      "metadata": {
        "colab": {
          "base_uri": "https://localhost:8080/"
        },
        "id": "4kvIOcHOPGwd",
        "outputId": "52f33230-2aaf-4c5e-9188-16e67526614b"
      },
      "source": [
        "df['beer/style'].value_counts()"
      ],
      "execution_count": null,
      "outputs": [
        {
          "output_type": "execute_result",
          "data": {
            "text/plain": [
              "American Double / Imperial Stout    4493\n",
              "American IPA                        3048\n",
              "American Double / Imperial IPA      2871\n",
              "Scotch Ale / Wee Heavy              2133\n",
              "Russian Imperial Stout              2030\n",
              "                                    ... \n",
              "Lambic - Fruit                         6\n",
              "Berliner Weissbier                     6\n",
              "Eisbock                                5\n",
              "BiÃ¨re de Garde                        4\n",
              "Flanders Red Ale                       2\n",
              "Name: beer/style, Length: 95, dtype: int64"
            ]
          },
          "metadata": {
            "tags": []
          },
          "execution_count": 13
        }
      ]
    },
    {
      "cell_type": "code",
      "metadata": {
        "colab": {
          "base_uri": "https://localhost:8080/",
          "height": 295
        },
        "id": "q_qKwDl0PjqF",
        "outputId": "995aed19-9ea7-4f0b-97f3-6203b55d66d9"
      },
      "source": [
        "plt.hist(df['review/overall']);\n",
        "plt.title('Overall review as a value of counts')\n",
        "plt.xlabel('Overall reviews[0-5]')\n",
        "plt.ylabel('Overall review counts');"
      ],
      "execution_count": null,
      "outputs": [
        {
          "output_type": "display_data",
          "data": {
            "image/png": "[encoded data removed]",
            "text/plain": [
              "<Figure size 432x288 with 1 Axes>"
            ]
          },
          "metadata": {
            "tags": [],
            "needs_background": "light"
          }
        }
      ]
    },
    {
      "cell_type": "code",
      "metadata": {
        "colab": {
          "base_uri": "https://localhost:8080/",
          "height": 295
        },
        "id": "3OdmxjSAQXur",
        "outputId": "b976a661-4385-4160-cd18-4357ae7a11fe"
      },
      "source": [
        "plt.hist(df['beer/ABV']);\n",
        "plt.title('Which Alcohol Absolute Volume is widely used')\n",
        "plt.xlabel('ABV')\n",
        "plt.ylabel('ABV Counts');"
      ],
      "execution_count": null,
      "outputs": [
        {
          "output_type": "display_data",
          "data": {
            "image/png": "[encoded data removed]",
            "text/plain": [
              "<Figure size 432x288 with 1 Axes>"
            ]
          },
          "metadata": {
            "tags": [],
            "needs_background": "light"
          }
        }
      ]
    },
    {
      "cell_type": "code",
      "metadata": {
        "colab": {
          "base_uri": "https://localhost:8080/"
        },
        "id": "yukEtq_URGp4",
        "outputId": "0b28d148-7f0d-4fb6-e2ec-0c11ac2ea252"
      },
      "source": [
        "df['beer/ABV'].value_counts()"
      ],
      "execution_count": null,
      "outputs": [
        {
          "output_type": "execute_result",
          "data": {
            "text/plain": [
              "6.50     2095\n",
              "5.00     2015\n",
              "8.30     1890\n",
              "6.60     1848\n",
              "9.40     1846\n",
              "         ... \n",
              "3.75        1\n",
              "57.70       1\n",
              "3.20        1\n",
              "14.50       1\n",
              "10.30       1\n",
              "Name: beer/ABV, Length: 126, dtype: int64"
            ]
          },
          "metadata": {
            "tags": []
          },
          "execution_count": 16
        }
      ]
    },
    {
      "cell_type": "code",
      "metadata": {
        "colab": {
          "base_uri": "https://localhost:8080/",
          "height": 868
        },
        "id": "8GAOYqdDR_xa",
        "outputId": "cf4e7a93-1161-4213-b7af-c852fa3499ab"
      },
      "source": [
        "plt.figure(figsize=(15,8))\n",
        "sns.barplot(df.groupby('beer/name')['review/overall'].mean().reset_index().sort_values('review/overall',ascending=False)['beer/name'][:20],df.groupby('beer/name')['review/overall'].mean().reset_index().sort_values('review/overall',ascending=False)['review/overall'][:20]);\n",
        "plt.xticks(rotation='vertical');\n",
        "plt.title('Top 20 beer brands based on overall review');"
      ],
      "execution_count": null,
      "outputs": [
        {
          "output_type": "stream",
          "text": [
            "/usr/local/lib/python3.6/dist-packages/seaborn/_decorators.py:43: FutureWarning: Pass the following variables as keyword args: x, y. From version 0.12, the only valid positional argument will be `data`, and passing other arguments without an explicit keyword will result in an error or misinterpretation.\n",
            "  FutureWarning\n"
          ],
          "name": "stderr"
        },
        {
          "output_type": "display_data",
          "data": {
            "image/png": "[encoded data removed]",
            "text/plain": [
              "<Figure size 1080x576 with 1 Axes>"
            ]
          },
          "metadata": {
            "tags": [],
            "needs_background": "light"
          }
        }
      ]
    },
    {
      "cell_type": "code",
      "metadata": {
        "colab": {
          "base_uri": "https://localhost:8080/",
          "height": 805
        },
        "id": "mY9xo-l9UGvw",
        "outputId": "6b05a961-1881-4519-af5b-2e4d440b8730"
      },
      "source": [
        "plt.figure(figsize=(15,8))\n",
        "sns.barplot(df.groupby('beer/name')['beer/ABV'].mean().reset_index().sort_values('beer/ABV',ascending=False)['beer/name'][:20],df.groupby('beer/name')['beer/ABV'].mean().reset_index().sort_values('beer/ABV',ascending=False)['beer/ABV'][:20]);\n",
        "plt.xticks(rotation='vertical');\n",
        "plt.title('Top 20 beer brands based on ABV');"
      ],
      "execution_count": null,
      "outputs": [
        {
          "output_type": "stream",
          "text": [
            "/usr/local/lib/python3.6/dist-packages/seaborn/_decorators.py:43: FutureWarning: Pass the following variables as keyword args: x, y. From version 0.12, the only valid positional argument will be `data`, and passing other arguments without an explicit keyword will result in an error or misinterpretation.\n",
            "  FutureWarning\n"
          ],
          "name": "stderr"
        },
        {
          "output_type": "display_data",
          "data": {
            "image/png": "[encoded data removed]",
            "text/plain": [
              "<Figure size 1080x576 with 1 Axes>"
            ]
          },
          "metadata": {
            "tags": [],
            "needs_background": "light"
          }
        }
      ]
    },
    {
      "cell_type": "code",
      "metadata": {
        "id": "VwZxtv0Sdf-4"
      },
      "source": [
        "reviews = df['review/text'].str.cat(sep=' ').lower()"
      ],
      "execution_count": null,
      "outputs": []
    },
    {
      "cell_type": "code",
      "metadata": {
        "id": "rcuxbpRafl6x"
      },
      "source": [
        "tokenizer = RegexpTokenizer(r'[A-Za-z]+')"
      ],
      "execution_count": null,
      "outputs": []
    },
    {
      "cell_type": "code",
      "metadata": {
        "id": "ENEW1SPvfm_4"
      },
      "source": [
        "tokens = tokenizer.tokenize(reviews)"
      ],
      "execution_count": null,
      "outputs": []
    },
    {
      "cell_type": "code",
      "metadata": {
        "id": "_1wjbrNwftch"
      },
      "source": [
        "reviews = ' '.join(tokens)"
      ],
      "execution_count": null,
      "outputs": []
    },
    {
      "cell_type": "code",
      "metadata": {
        "id": "zKeUzhuDf5yb"
      },
      "source": [
        "tokens = word_tokenize(reviews)"
      ],
      "execution_count": null,
      "outputs": []
    },
    {
      "cell_type": "code",
      "metadata": {
        "id": "MquMLe9wzEw4"
      },
      "source": [
        "stop_words = stopwords.words('english')"
      ],
      "execution_count": null,
      "outputs": []
    },
    {
      "cell_type": "code",
      "metadata": {
        "id": "uq0R5wiHdj74"
      },
      "source": [
        "vocabulary = set(tokens)\n",
        "\n",
        "tokens = [w for w in tokens if not w in stop_words]"
      ],
      "execution_count": null,
      "outputs": []
    },
    {
      "cell_type": "code",
      "metadata": {
        "colab": {
          "base_uri": "https://localhost:8080/"
        },
        "id": "6rNPH02OfF77",
        "outputId": "10efdc72-88e8-495f-db2e-e7b658367b8b"
      },
      "source": [
        "frequency_dist = nltk.FreqDist(tokens)\n",
        "sorted(frequency_dist,key=frequency_dist.__getitem__, reverse=True)[0:50] #Frequemcy distribution of top 50 words"
      ],
      "execution_count": null,
      "outputs": [
        {
          "output_type": "execute_result",
          "data": {
            "text/plain": [
              "['beer',\n",
              " 'head',\n",
              " 'taste',\n",
              " 'nice',\n",
              " 'like',\n",
              " 'good',\n",
              " 'malt',\n",
              " 'one',\n",
              " 'hops',\n",
              " 'sweet',\n",
              " 'light',\n",
              " 'dark',\n",
              " 'flavor',\n",
              " 'bit',\n",
              " 'chocolate',\n",
              " 'carbonation',\n",
              " 'well',\n",
              " 'aroma',\n",
              " 'coffee',\n",
              " 'little',\n",
              " 'glass',\n",
              " 'smell',\n",
              " 'finish',\n",
              " 'mouthfeel',\n",
              " 'bottle',\n",
              " 'pours',\n",
              " 'color',\n",
              " 'hop',\n",
              " 'alcohol',\n",
              " 'lacing',\n",
              " 'brown',\n",
              " 'medium',\n",
              " 'body',\n",
              " 'caramel',\n",
              " 'really',\n",
              " 'much',\n",
              " 'poured',\n",
              " 'bitter',\n",
              " 'bitterness',\n",
              " 'smooth',\n",
              " 'white',\n",
              " 'malts',\n",
              " 'would',\n",
              " 'great',\n",
              " 'nose',\n",
              " 'black',\n",
              " 'flavors',\n",
              " 'notes',\n",
              " 'roasted',\n",
              " 'thick']"
            ]
          },
          "metadata": {
            "tags": []
          },
          "execution_count": 38
        }
      ]
    },
    {
      "cell_type": "code",
      "metadata": {
        "id": "2cZTOXCghlpK"
      },
      "source": [
        "wordcloud = WordCloud().generate_from_frequencies(frequency_dist)"
      ],
      "execution_count": null,
      "outputs": []
    },
    {
      "cell_type": "code",
      "metadata": {
        "colab": {
          "base_uri": "https://localhost:8080/",
          "height": 198
        },
        "id": "CN_REUPsh8DN",
        "outputId": "bbf88791-9f49-4c2e-ded2-15bde7daf82a"
      },
      "source": [
        "plt.imshow(wordcloud)\n",
        "plt.axis(\"off\")\n",
        "plt.show()\n",
        "plt.title('Word Cloud for reviews')"
      ],
      "execution_count": null,
      "outputs": [
        {
          "output_type": "display_data",
          "data": {
            "image/png": "[encoded data removed]",
            "text/plain": [
              "<Figure size 432x288 with 1 Axes>"
            ]
          },
          "metadata": {
            "tags": [],
            "needs_background": "light"
          }
        }
      ]
    },
    {
      "cell_type": "code",
      "metadata": {
        "id": "x8cdYa0yF3Sa"
      },
      "source": [
        "df_new = pd.get_dummies(df,columns=['beer/name','beer/style']) #OHE for categorical variable beer/name and beer/style"
      ],
      "execution_count": null,
      "outputs": []
    },
    {
      "cell_type": "code",
      "metadata": {
        "id": "IaKsXytPxpQq"
      },
      "source": [
        "df_new['review/text'] = df_new['review/text'].apply(lambda x : x.lower())"
      ],
      "execution_count": null,
      "outputs": []
    },
    {
      "cell_type": "code",
      "metadata": {
        "id": "3VIeBEBeyKLu"
      },
      "source": [
        "df_new['review/text'] = df_new['review/text'].apply(lambda x : ' '.join(tokenizer.tokenize(x)))"
      ],
      "execution_count": null,
      "outputs": []
    },
    {
      "cell_type": "code",
      "metadata": {
        "id": "b_PlR2Epy0M2"
      },
      "source": [
        "df_new['review/text'] = df_new['review/text'].apply(lambda x : ' '.join([w for w in word_tokenize(x) if not w in stop_words]))"
      ],
      "execution_count": null,
      "outputs": []
    },
    {
      "cell_type": "code",
      "metadata": {
        "id": "_1M0KczjcC6b"
      },
      "source": [
        "X = df_new.drop(axis=1,labels = ['index','beer/beerId','beer/brewerId','review/overall','review/timeStruct','review/timeUnix','user/birthdayRaw','user/birthdayUnix','user/profileName','user/ageInSeconds','user/gender'])\n",
        "Y = df_new['review/overall']"
      ],
      "execution_count": null,
      "outputs": []
    },
    {
      "cell_type": "code",
      "metadata": {
        "colab": {
          "base_uri": "https://localhost:8080/"
        },
        "id": "zAdX5BaXjehl",
        "outputId": "24abc096-503f-4d0c-f003-d6f8504f112c"
      },
      "source": [
        "X.shape,Y.shape"
      ],
      "execution_count": null,
      "outputs": [
        {
          "output_type": "execute_result",
          "data": {
            "text/plain": [
              "((37490, 1789), (37490,))"
            ]
          },
          "metadata": {
            "tags": []
          },
          "execution_count": 13
        }
      ]
    },
    {
      "cell_type": "code",
      "metadata": {
        "id": "KN8mzmB1kOIT"
      },
      "source": [
        "X_train,X_test,Y_train,Y_test = train_test_split(X,Y,test_size=0.2,random_state=42) #Splitting train and test data"
      ],
      "execution_count": null,
      "outputs": []
    },
    {
      "cell_type": "code",
      "metadata": {
        "colab": {
          "base_uri": "https://localhost:8080/"
        },
        "id": "WbcaR1QjuVtp",
        "outputId": "1e56994d-6bb6-4895-ae08-3504bcd410be"
      },
      "source": [
        "X_train.shape,X_test.shape"
      ],
      "execution_count": null,
      "outputs": [
        {
          "output_type": "execute_result",
          "data": {
            "text/plain": [
              "((29992, 1789), (7498, 1789))"
            ]
          },
          "metadata": {
            "tags": []
          },
          "execution_count": 15
        }
      ]
    },
    {
      "cell_type": "code",
      "metadata": {
        "id": "ixxCjdF0yWtv"
      },
      "source": [
        "from sklearn.preprocessing import StandardScaler"
      ],
      "execution_count": null,
      "outputs": []
    },
    {
      "cell_type": "code",
      "metadata": {
        "id": "EMhMDGKexoSQ"
      },
      "source": [
        "scale = StandardScaler()\n",
        "scale.fit(X_train[['beer/ABV','review/appearance','review/aroma','review/palate','review/taste']]); #Stadardizing data before dimensionality reduction"
      ],
      "execution_count": null,
      "outputs": []
    },
    {
      "cell_type": "code",
      "metadata": {
        "id": "S9YPbf_uyYQi"
      },
      "source": [
        "X_train_scale = pd.DataFrame(scale.transform(X_train[['beer/ABV','review/appearance','review/aroma','review/palate','review/taste']]),columns=['beer/ABV','review/appearance','review/aroma','review/palate','review/taste'])"
      ],
      "execution_count": null,
      "outputs": []
    },
    {
      "cell_type": "code",
      "metadata": {
        "colab": {
          "base_uri": "https://localhost:8080/"
        },
        "id": "iFaY5YkNy2fX",
        "outputId": "7648dfc8-ddb2-4bd3-b4bf-a5028ae55ec2"
      },
      "source": [
        "X_train.drop(['beer/ABV','review/appearance','review/aroma','review/palate','review/taste'],1,inplace=True)"
      ],
      "execution_count": null,
      "outputs": [
        {
          "output_type": "stream",
          "text": [
            "/usr/local/lib/python3.6/dist-packages/pandas/core/frame.py:4174: SettingWithCopyWarning: \n",
            "A value is trying to be set on a copy of a slice from a DataFrame\n",
            "\n",
            "See the caveats in the documentation: https://pandas.pydata.org/pandas-docs/stable/user_guide/indexing.html#returning-a-view-versus-a-copy\n",
            "  errors=errors,\n"
          ],
          "name": "stderr"
        }
      ]
    },
    {
      "cell_type": "code",
      "metadata": {
        "id": "owMtKhVi0PM3"
      },
      "source": [
        "X_train = pd.merge(X_train,X_train_scale,on=X_train_scale.index)"
      ],
      "execution_count": null,
      "outputs": []
    },
    {
      "cell_type": "code",
      "metadata": {
        "id": "GCjnrdIT0ccp"
      },
      "source": [
        "X_train.drop('key_0',1,inplace=True)"
      ],
      "execution_count": null,
      "outputs": []
    },
    {
      "cell_type": "code",
      "metadata": {
        "id": "AUB-8utt0z4J"
      },
      "source": [
        "X_test_scale = pd.DataFrame(scale.transform(X_test[['beer/ABV','review/appearance','review/aroma','review/palate','review/taste']]),columns=['beer/ABV','review/appearance','review/aroma','review/palate','review/taste'])"
      ],
      "execution_count": null,
      "outputs": []
    },
    {
      "cell_type": "code",
      "metadata": {
        "colab": {
          "base_uri": "https://localhost:8080/"
        },
        "id": "rcmmpGvL05mf",
        "outputId": "ed62cdda-0331-4b15-edf9-29973e42a691"
      },
      "source": [
        "X_test.drop(['beer/ABV','review/appearance','review/aroma','review/palate','review/taste'],1,inplace=True)"
      ],
      "execution_count": null,
      "outputs": [
        {
          "output_type": "stream",
          "text": [
            "/usr/local/lib/python3.6/dist-packages/pandas/core/frame.py:4174: SettingWithCopyWarning: \n",
            "A value is trying to be set on a copy of a slice from a DataFrame\n",
            "\n",
            "See the caveats in the documentation: https://pandas.pydata.org/pandas-docs/stable/user_guide/indexing.html#returning-a-view-versus-a-copy\n",
            "  errors=errors,\n"
          ],
          "name": "stderr"
        }
      ]
    },
    {
      "cell_type": "code",
      "metadata": {
        "id": "ijOPGcGG0_2V"
      },
      "source": [
        "X_test = pd.merge(X_test,X_test_scale,on=X_test_scale.index)\n",
        "X_test.drop('key_0',1,inplace=True)"
      ],
      "execution_count": null,
      "outputs": []
    },
    {
      "cell_type": "code",
      "metadata": {
        "id": "h2pn8atcji2v"
      },
      "source": [
        "vect = TfidfVectorizer() #TF-IDF Vectorizer"
      ],
      "execution_count": null,
      "outputs": []
    },
    {
      "cell_type": "code",
      "metadata": {
        "colab": {
          "base_uri": "https://localhost:8080/"
        },
        "id": "9AiOB19Tj_bQ",
        "outputId": "2c4aa655-fdf1-4292-8208-61e2fca3a9b5"
      },
      "source": [
        "train_vectors = vect.fit_transform(X_train['review/text'].values)\n",
        "test_vectors = vect.transform(X_test['review/text'].values)\n",
        "print(train_vectors.shape, test_vectors.shape)"
      ],
      "execution_count": null,
      "outputs": [
        {
          "output_type": "stream",
          "text": [
            "(29992, 36356) (7498, 36356)\n"
          ],
          "name": "stdout"
        }
      ]
    },
    {
      "cell_type": "code",
      "metadata": {
        "colab": {
          "base_uri": "https://localhost:8080/"
        },
        "id": "MTpFmqiLJs5Z",
        "outputId": "967ba0f5-6e0f-47d8-99c1-65bb46812053"
      },
      "source": [
        "train_vectors"
      ],
      "execution_count": null,
      "outputs": [
        {
          "output_type": "execute_result",
          "data": {
            "text/plain": [
              "<29992x36356 sparse matrix of type '<class 'numpy.float64'>'\n",
              "\twith 1841277 stored elements in Compressed Sparse Row format>"
            ]
          },
          "metadata": {
            "tags": []
          },
          "execution_count": 40
        }
      ]
    },
    {
      "cell_type": "code",
      "metadata": {
        "id": "L5l5DHoO1Qki"
      },
      "source": [
        "dim_red = TruncatedSVD(n_components=200,random_state=42) #Truncated Singular Value Decomposition for reduction of dimensions"
      ],
      "execution_count": null,
      "outputs": []
    },
    {
      "cell_type": "code",
      "metadata": {
        "id": "ljmH82FB1hbL"
      },
      "source": [
        "train_vectors = dim_red.fit_transform(train_vectors)\n",
        "test_vectors = dim_red.transform(test_vectors)"
      ],
      "execution_count": null,
      "outputs": []
    },
    {
      "cell_type": "code",
      "metadata": {
        "id": "Xnvf48FAr8on"
      },
      "source": [
        "train_vectors = pd.DataFrame(train_vectors)\n",
        "test_vectors = pd.DataFrame(test_vectors)"
      ],
      "execution_count": null,
      "outputs": []
    },
    {
      "cell_type": "code",
      "metadata": {
        "id": "joS7bZ122joE"
      },
      "source": [
        "X_train.drop('review/text',1,inplace=True)\n",
        "X_test.drop('review/text',1,inplace=True)"
      ],
      "execution_count": null,
      "outputs": []
    },
    {
      "cell_type": "code",
      "metadata": {
        "id": "7e6O6iWjCPUK"
      },
      "source": [
        "X_train_join = pd.merge(X_train,train_vectors,on=train_vectors.index)\n",
        "X_test_join = pd.merge(X_test,test_vectors,on=test_vectors.index)"
      ],
      "execution_count": null,
      "outputs": []
    },
    {
      "cell_type": "code",
      "metadata": {
        "colab": {
          "base_uri": "https://localhost:8080/"
        },
        "id": "2Zu8tG9y3YFN",
        "outputId": "2651d8f1-b9c6-48e9-e10c-c43456b5729f"
      },
      "source": [
        "X_train_join.shape,X_test_join.shape"
      ],
      "execution_count": null,
      "outputs": [
        {
          "output_type": "execute_result",
          "data": {
            "text/plain": [
              "((29992, 1989), (7498, 1989))"
            ]
          },
          "metadata": {
            "tags": []
          },
          "execution_count": 46
        }
      ]
    },
    {
      "cell_type": "code",
      "metadata": {
        "id": "vzcdctpWsXb-"
      },
      "source": [
        "X_train_join.drop('key_0',1,inplace=True)\n",
        "X_test_join.drop('key_0',1,inplace=True)"
      ],
      "execution_count": null,
      "outputs": []
    },
    {
      "cell_type": "code",
      "metadata": {
        "id": "mRI-WVnLkuj-"
      },
      "source": [
        "reg_rf = RandomForestRegressor(n_jobs=-1,random_state=42,n_estimators=200) #Random Forest Regressor"
      ],
      "execution_count": null,
      "outputs": []
    },
    {
      "cell_type": "code",
      "metadata": {
        "colab": {
          "base_uri": "https://localhost:8080/"
        },
        "id": "jeZgOj5fnKgb",
        "outputId": "876b4641-907e-4e3d-f19f-bb32f0d39207"
      },
      "source": [
        "reg_rf.fit(X_train_join,Y_train);"
      ],
      "execution_count": null,
      "outputs": [
        {
          "output_type": "execute_result",
          "data": {
            "text/plain": [
              "RandomForestRegressor(bootstrap=True, ccp_alpha=0.0, criterion='mse',\n",
              "                      max_depth=None, max_features='auto', max_leaf_nodes=None,\n",
              "                      max_samples=None, min_impurity_decrease=0.0,\n",
              "                      min_impurity_split=None, min_samples_leaf=1,\n",
              "                      min_samples_split=2, min_weight_fraction_leaf=0.0,\n",
              "                      n_estimators=200, n_jobs=-1, oob_score=False,\n",
              "                      random_state=42, verbose=0, warm_start=False)"
            ]
          },
          "metadata": {
            "tags": []
          },
          "execution_count": 52
        }
      ]
    },
    {
      "cell_type": "code",
      "metadata": {
        "id": "tZsvYHRknP36"
      },
      "source": [
        "pred_rf = reg_rf.predict(X_test_join) #Prediction of Random Forest regression"
      ],
      "execution_count": null,
      "outputs": []
    },
    {
      "cell_type": "code",
      "metadata": {
        "id": "_YZRoU2nooJU"
      },
      "source": [
        "from sklearn.metrics import mean_squared_error,r2_score, mean_absolute_error"
      ],
      "execution_count": null,
      "outputs": []
    },
    {
      "cell_type": "code",
      "metadata": {
        "colab": {
          "base_uri": "https://localhost:8080/"
        },
        "id": "vmBqbkIipAVh",
        "outputId": "00908ebe-7d67-434b-9886-b95210fa7e53"
      },
      "source": [
        "mean_squared_error(Y_test,pred_rf),mean_absolute_error(Y_test,pred_rf),r2_score(Y_test,pred_rf) #Evaluation fo RF regreesion"
      ],
      "execution_count": null,
      "outputs": [
        {
          "output_type": "execute_result",
          "data": {
            "text/plain": [
              "(0.15812216090957587, 0.30331955188050147, 0.6864154821267566)"
            ]
          },
          "metadata": {
            "tags": []
          },
          "execution_count": 65
        }
      ]
    },
    {
      "cell_type": "code",
      "metadata": {
        "id": "vZy9HRX7pDfd"
      },
      "source": [
        "from sklearn.neighbors import KNeighborsRegressor"
      ],
      "execution_count": null,
      "outputs": []
    },
    {
      "cell_type": "code",
      "metadata": {
        "id": "mw5JeW3D6weS"
      },
      "source": [
        "reg_knn = KNeighborsRegressor(n_jobs=-1)"
      ],
      "execution_count": null,
      "outputs": []
    },
    {
      "cell_type": "code",
      "metadata": {
        "colab": {
          "base_uri": "https://localhost:8080/"
        },
        "id": "41CyPI_B69_f",
        "outputId": "a3e9eba6-d5bd-421b-90b5-bdaf0ec30c6c"
      },
      "source": [
        "reg_knn.fit(X_train_join,Y_train)"
      ],
      "execution_count": null,
      "outputs": [
        {
          "output_type": "execute_result",
          "data": {
            "text/plain": [
              "KNeighborsRegressor(algorithm='auto', leaf_size=30, metric='minkowski',\n",
              "                    metric_params=None, n_jobs=-1, n_neighbors=5, p=2,\n",
              "                    weights='uniform')"
            ]
          },
          "metadata": {
            "tags": []
          },
          "execution_count": 58
        }
      ]
    },
    {
      "cell_type": "code",
      "metadata": {
        "id": "aRxD75fS7Beu"
      },
      "source": [
        "pred_knn = reg_knn.predict(X_test_join)"
      ],
      "execution_count": null,
      "outputs": []
    },
    {
      "cell_type": "code",
      "metadata": {
        "colab": {
          "base_uri": "https://localhost:8080/"
        },
        "id": "-XguWO_n7LD1",
        "outputId": "d45dbf92-f9f0-4e31-a5a5-18a2a38135a5"
      },
      "source": [
        "mean_squared_error(Y_test,pred_knn),mean_absolute_error(Y_test,pred_knn),r2_score(Y_test,pred_knn)"
      ],
      "execution_count": null,
      "outputs": [
        {
          "output_type": "execute_result",
          "data": {
            "text/plain": [
              "(0.19165910909575887, 0.3336356361696452, 0.6199057173511651)"
            ]
          },
          "metadata": {
            "tags": []
          },
          "execution_count": 128
        }
      ]
    },
    {
      "cell_type": "code",
      "metadata": {
        "id": "ziVHp-Iw7NnX"
      },
      "source": [
        "from sklearn.linear_model import LinearRegression"
      ],
      "execution_count": null,
      "outputs": []
    },
    {
      "cell_type": "code",
      "metadata": {
        "id": "XpMi0gjg7rH6"
      },
      "source": [
        "reg_lin = LinearRegression(n_jobs=-1)"
      ],
      "execution_count": null,
      "outputs": []
    },
    {
      "cell_type": "code",
      "metadata": {
        "colab": {
          "base_uri": "https://localhost:8080/"
        },
        "id": "zXgDWiMY7wVH",
        "outputId": "6d02b998-9ab9-4edf-9379-b590ec7f5d9b"
      },
      "source": [
        "reg_lin.fit(X_train_join,Y_train)"
      ],
      "execution_count": null,
      "outputs": [
        {
          "output_type": "execute_result",
          "data": {
            "text/plain": [
              "LinearRegression(copy_X=True, fit_intercept=True, n_jobs=-1, normalize=False)"
            ]
          },
          "metadata": {
            "tags": []
          },
          "execution_count": 63
        }
      ]
    },
    {
      "cell_type": "code",
      "metadata": {
        "id": "DlvNemFt7zxr"
      },
      "source": [
        "pred_lin = reg_lin.predict(X_test_join)"
      ],
      "execution_count": null,
      "outputs": []
    },
    {
      "cell_type": "code",
      "metadata": {
        "colab": {
          "base_uri": "https://localhost:8080/"
        },
        "id": "T7DjBdbm8qpK",
        "outputId": "da2b01f6-34b4-40ca-b2c2-3bea5fe3887c"
      },
      "source": [
        "mean_squared_error(Y_test,pred_lin),mean_absolute_error(Y_test,pred_lin),r2_score(Y_test,pred_lin)"
      ],
      "execution_count": null,
      "outputs": [
        {
          "output_type": "execute_result",
          "data": {
            "text/plain": [
              "(4.4770442610241766e+17, 42135878.73113311, -8.878779280617682e+17)"
            ]
          },
          "metadata": {
            "tags": []
          },
          "execution_count": 67
        }
      ]
    },
    {
      "cell_type": "code",
      "metadata": {
        "id": "6Zn-hmuS83Lc"
      },
      "source": [
        "from tensorflow import keras\n",
        "from keras import layers\n",
        "import tensorflow as tf\n",
        "from keras.layers.experimental.preprocessing import Normalization"
      ],
      "execution_count": null,
      "outputs": []
    },
    {
      "cell_type": "code",
      "metadata": {
        "id": "wUwqeyKiOYdG"
      },
      "source": [
        "normalize = Normalization()"
      ],
      "execution_count": null,
      "outputs": []
    },
    {
      "cell_type": "code",
      "metadata": {
        "id": "MqM9zBAV9pAe"
      },
      "source": [
        "model = keras.Sequential([ normalize,\n",
        "                          layers.Dense(1024, activation = 'relu',dtype='float64'),\n",
        "                          layers.Dense(1024, activation = 'relu',dtype='float64'),\n",
        "                          layers.Dense(1,dtype='float64')]) #DNN 2 layer Model for regression"
      ],
      "execution_count": null,
      "outputs": []
    },
    {
      "cell_type": "code",
      "metadata": {
        "id": "czBMAT8G-ZL5"
      },
      "source": [
        "model.compile(loss='mean_absolute_error',\n",
        "                optimizer='Adam',metrics = 'mse')"
      ],
      "execution_count": null,
      "outputs": []
    },
    {
      "cell_type": "code",
      "metadata": {
        "colab": {
          "base_uri": "https://localhost:8080/"
        },
        "id": "OMBjXdH--wiA",
        "outputId": "fcc70cf8-28b1-4d81-cc0c-0cebb77b081a"
      },
      "source": [
        "model.fit(X_train_join,Y_train,validation_split=0.1,epochs=100,batch_size=1, callbacks=tf.keras.callbacks.EarlyStopping(monitor='val_mse', patience=5, restore_best_weights=True))"
      ],
      "execution_count": null,
      "outputs": [
        {
          "output_type": "stream",
          "text": [
            "Epoch 1/100\n",
            "26992/26992 [==============================] - 76s 3ms/step - loss: 0.3939 - mse: 0.2789 - val_loss: 0.3085 - val_mse: 0.1648\n",
            "Epoch 2/100\n",
            "26992/26992 [==============================] - 74s 3ms/step - loss: 0.3190 - mse: 0.1750 - val_loss: 0.3118 - val_mse: 0.1653\n",
            "Epoch 3/100\n",
            "26992/26992 [==============================] - 73s 3ms/step - loss: 0.3073 - mse: 0.1647 - val_loss: 0.3139 - val_mse: 0.1671\n",
            "Epoch 4/100\n",
            "26992/26992 [==============================] - 74s 3ms/step - loss: 0.2977 - mse: 0.1552 - val_loss: 0.3047 - val_mse: 0.1599\n",
            "Epoch 5/100\n",
            "26992/26992 [==============================] - 73s 3ms/step - loss: 0.2906 - mse: 0.1499 - val_loss: 0.3100 - val_mse: 0.1630\n",
            "Epoch 6/100\n",
            "26992/26992 [==============================] - 73s 3ms/step - loss: 0.2792 - mse: 0.1409 - val_loss: 0.3183 - val_mse: 0.1725\n",
            "Epoch 7/100\n",
            "26992/26992 [==============================] - 74s 3ms/step - loss: 0.2691 - mse: 0.1325 - val_loss: 0.3167 - val_mse: 0.1703\n",
            "Epoch 8/100\n",
            "26992/26992 [==============================] - 74s 3ms/step - loss: 0.2583 - mse: 0.1235 - val_loss: 0.3325 - val_mse: 0.1893\n",
            "Epoch 9/100\n",
            "26992/26992 [==============================] - 74s 3ms/step - loss: 0.2478 - mse: 0.1155 - val_loss: 0.3216 - val_mse: 0.1768\n"
          ],
          "name": "stdout"
        },
        {
          "output_type": "execute_result",
          "data": {
            "text/plain": [
              "<tensorflow.python.keras.callbacks.History at 0x7f44f22c67f0>"
            ]
          },
          "metadata": {
            "tags": []
          },
          "execution_count": 125
        }
      ]
    },
    {
      "cell_type": "code",
      "metadata": {
        "id": "S8BsbU-e-1Zu"
      },
      "source": [
        "pred_dnn = model.predict(X_test_join)"
      ],
      "execution_count": null,
      "outputs": []
    },
    {
      "cell_type": "code",
      "metadata": {
        "colab": {
          "base_uri": "https://localhost:8080/"
        },
        "id": "Ax3gLTGlRzdr",
        "outputId": "0c430491-8a9e-4565-8a35-59fa1b2564a0"
      },
      "source": [
        "mean_squared_error(Y_test,pred_dnn),mean_absolute_error(Y_test,pred_dnn),r2_score(Y_test,pred_dnn)"
      ],
      "execution_count": null,
      "outputs": [
        {
          "output_type": "execute_result",
          "data": {
            "text/plain": [
              "(0.15801535676701156, 0.3014721807868567, 0.6866272938384119)"
            ]
          },
          "metadata": {
            "tags": []
          },
          "execution_count": 127
        }
      ]
    },
    {
      "cell_type": "code",
      "metadata": {
        "id": "SQcUS00LR57O"
      },
      "source": [
        "#DNN regressor > RF regressor > KNN regressor > Linear Regressor (owrst)"
      ],
      "execution_count": null,
      "outputs": []
    }
  ]
}